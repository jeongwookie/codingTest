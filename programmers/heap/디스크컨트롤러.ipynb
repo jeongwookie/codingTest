{
 "cells": [
  {
   "cell_type": "markdown",
   "metadata": {},
   "source": [
    "### 내 풀이\n",
    "- https://programmers.co.kr/learn/courses/30/lessons/42627"
   ]
  },
  {
   "cell_type": "code",
   "execution_count": 2,
   "metadata": {
    "execution": {
     "iopub.execute_input": "2021-10-21T07:40:14.064582Z",
     "iopub.status.busy": "2021-10-21T07:40:14.064245Z",
     "iopub.status.idle": "2021-10-21T07:40:14.076645Z",
     "shell.execute_reply": "2021-10-21T07:40:14.075831Z",
     "shell.execute_reply.started": "2021-10-21T07:40:14.064548Z"
    }
   },
   "outputs": [],
   "source": [
    "class Disk():\n",
    "    \n",
    "    def __init__(self): # input\n",
    "        self.proceeding = False # 진행중인지 아닌지 T/F\n",
    "        self.time = 0\n",
    "        self._queue = []\n",
    "    \n",
    "    def push(self, job): # job : [0,3]\n",
    "        # if disk가 비어있는 경우, proceeding이 false인 경우\n",
    "        if not self.proceeding:\n",
    "            self._queue.append(job)\n",
    "            self.proceeding = True\n",
    "            return True\n",
    "        \n",
    "        else:\n",
    "            return False\n",
    "        \n",
    "    def finish(self):\n",
    "        return True\n",
    "        \n",
    "\n",
    "\n",
    "\n",
    "def solution(jobs):\n",
    "    \"\"\"\n",
    "    jobs = [[작업 요청 시점, 작업 소요 시간], ...] 으로 주어짐.\n",
    "    각 작업의 요청부터 종료까지의 시간을 잰 후 전에 len으로 나누어 산술평균을 구함.\n",
    "    해당 평균의 최소값을 리턴하자. 소수점 이하는 버림 처리.\n",
    "    하드디스크가 작업을 아예 수행하고 있지 않은 상태이면, 먼저 들어온 녀석부터 처리함. -> 이미 작업이 진행중인 상태에서만 순서를 정할수 있음.\n",
    "    \n",
    "    ex. jobs = [[0,3], [1,9], [2,6]]\n",
    "    \n",
    "    - 0초 시점부터 일이 들어온다고 장담할 수 없음.\n",
    "    - 가장 처음에 시작하는 놈은 미리 뽑아놓을 수 있음. (x[0] 기준으로 min소트)\n",
    "    \n",
    "    뇌정지옴 모르겠음 ㅠ 1시간동안 고민했는데..\n",
    "    \n",
    "    \"\"\"\n",
    "    \n",
    "    \n",
    "    answer = 0\n",
    "    return answer"
   ]
  },
  {
   "cell_type": "markdown",
   "metadata": {},
   "source": [
    "### 풀이\n",
    "\n",
    "- 스케쥴링을 하는 기본 알고리즘 중 하나임\n",
    "- SJF (Shortest Job First) 알고리즘 \n",
    "- Interval Scheduling 기법이라고도 함\n",
    "- 빨리 끝나는 프로세스를 우선적으로 실행하다보면, 최적의 시간을 얻을 수 있다는 그리디 알고리즘 기법\n",
    "- 힙의 특징은 최솟값을 가진 원소를 맨 앞에 유지시켜주는 것인데, 프로세스 종료 시간을 기준으로 heap을 짜면 된다."
   ]
  },
  {
   "cell_type": "code",
   "execution_count": 20,
   "metadata": {
    "execution": {
     "iopub.execute_input": "2021-10-21T09:27:17.634513Z",
     "iopub.status.busy": "2021-10-21T09:27:17.634218Z",
     "iopub.status.idle": "2021-10-21T09:27:17.650304Z",
     "shell.execute_reply": "2021-10-21T09:27:17.649052Z",
     "shell.execute_reply.started": "2021-10-21T09:27:17.634484Z"
    }
   },
   "outputs": [],
   "source": [
    "def solution(jobs):\n",
    "    answer = 0\n",
    "    \n",
    "    # jobs를 요청 시간 기준으로 오름차순 sorting\n",
    "    jobs.sort()\n",
    "    \n",
    "    import heapq\n",
    "    task = []\n",
    "    \n",
    "    # time 변수를 통해 기록할껀데, jobs의 제일 처음 요청 시점으로 초기화를 해줌\n",
    "    time = jobs[0][0] # 0초에 입력되었다면 0\n",
    "    jobs_length = len(jobs)\n",
    "    \n",
    "    #1. task가 비어있는 경우, 제일 현재 time과 가까운 애를 jobs 안에서 뽑아서 처리한다.\n",
    "    #2. task가 쌓여있는 경우, task에서 뽑아서 처리해야함. task에는 조건에 맞는 item들이 처리 시간을 기준으로 minHeap으로 구성됨.\n",
    "    \n",
    "    \n",
    "    while jobs:\n",
    "        print(f\"현재 시각 : {time}s\")\n",
    "        \n",
    "        # 제일 처음 입력된 job부터 처리하기\n",
    "        if not task: # task가 비어있는 경우,\n",
    "            current_job = jobs.pop(0)\n",
    "            time += current_job[1] # time을 흐르게 함\n",
    "            answer += current_job[1] # 처리 시간 저장\n",
    "        \n",
    "        else: # task가 비어있지 않은 경우\n",
    "            current_job = heapq.heappop(task) # task안에 저장된 jobs들 중 처리 시간이 가장 짧은 애를 뽑음. 자리가 바뀐 상태이다.\n",
    "            time += current_job[0]\n",
    "            answer += (time - current_job[1]) # 현재 시간에서 job이 요청된 시간을 빼줌\n",
    "        \n",
    "        print(f\"{current_job}을 처리하고 {time}s 가 되었습니다.\")\n",
    "        \n",
    "        # 하나의 job을 처리한 만큼 시간이 흘렀을껀데 그 사이 시간대에 요청들어온 jobs를 전부 heap에 넣어줌\n",
    "        ## 그 사이에 요청이 하나도 안들어왔으면? 아니면 jobs가 비었다면? 인덱싱할때는 반드시 비었을때를 생각해서 넣어줘야한다.\n",
    "        while len(jobs) != 0 and jobs[0][0] < time:\n",
    "            # 현재 시각 미만에서 처리 요청이 들어온 jobs들을 push. 이때 모듈이 첫번째 element를 기준으로 minHeap을 만들기때문에, 자리바꾸기 해줘야함.\n",
    "            heapq.heappush(task, jobs.pop(0)[::-1]) \n",
    "            if not jobs:\n",
    "                break\n",
    "        \n",
    "        print(f\"Task : {task}\")\n",
    "    \n",
    "    while task:\n",
    "        current_job = heapq.heappop(task)\n",
    "        time += current_job[0]\n",
    "        answer += (time - current_job[1])\n",
    "        print(f\"{current_job}을 처리하고 {time}s 가 되었습니다.\")\n",
    "        \n",
    "    return int(answer/jobs_length)\n",
    "        "
   ]
  },
  {
   "cell_type": "code",
   "execution_count": 21,
   "metadata": {
    "execution": {
     "iopub.execute_input": "2021-10-21T09:27:18.068092Z",
     "iopub.status.busy": "2021-10-21T09:27:18.067832Z",
     "iopub.status.idle": "2021-10-21T09:27:18.074337Z",
     "shell.execute_reply": "2021-10-21T09:27:18.073400Z",
     "shell.execute_reply.started": "2021-10-21T09:27:18.068064Z"
    }
   },
   "outputs": [
    {
     "name": "stdout",
     "output_type": "stream",
     "text": [
      "현재 시각 : 0s\n",
      "[0, 3]을 처리하고 3s 가 되었습니다.\n",
      "Task : [[6, 2], [9, 1]]\n",
      "[6, 2]을 처리하고 9s 가 되었습니다.\n",
      "[9, 1]을 처리하고 18s 가 되었습니다.\n"
     ]
    },
    {
     "data": {
      "text/plain": [
       "9"
      ]
     },
     "execution_count": 21,
     "metadata": {},
     "output_type": "execute_result"
    }
   ],
   "source": [
    "jobs = [[0, 3], [1, 9], [2, 6]]\n",
    "solution(jobs)"
   ]
  },
  {
   "cell_type": "code",
   "execution_count": 22,
   "metadata": {
    "execution": {
     "iopub.execute_input": "2021-10-21T09:27:19.147191Z",
     "iopub.status.busy": "2021-10-21T09:27:19.146810Z",
     "iopub.status.idle": "2021-10-21T09:27:19.153498Z",
     "shell.execute_reply": "2021-10-21T09:27:19.152662Z",
     "shell.execute_reply.started": "2021-10-21T09:27:19.147157Z"
    }
   },
   "outputs": [
    {
     "name": "stdout",
     "output_type": "stream",
     "text": [
      "현재 시각 : 0s\n",
      "[0, 3]을 처리하고 3s 가 되었습니다.\n",
      "Task : [[6, 2], [9, 1]]\n",
      "현재 시각 : 3s\n",
      "[6, 2]을 처리하고 9s 가 되었습니다.\n",
      "Task : [[9, 1]]\n",
      "현재 시각 : 9s\n",
      "[9, 1]을 처리하고 18s 가 되었습니다.\n",
      "Task : []\n",
      "현재 시각 : 18s\n",
      "[30, 3]을 처리하고 21s 가 되었습니다.\n",
      "Task : []\n"
     ]
    },
    {
     "data": {
      "text/plain": [
       "7"
      ]
     },
     "execution_count": 22,
     "metadata": {},
     "output_type": "execute_result"
    }
   ],
   "source": [
    "jobs = [[0, 3], [1, 9], [2, 6], [30, 3]]\n",
    "solution(jobs)"
   ]
  },
  {
   "cell_type": "code",
   "execution_count": null,
   "metadata": {},
   "outputs": [],
   "source": []
  }
 ],
 "metadata": {
  "kernelspec": {
   "display_name": "Python 3",
   "language": "python",
   "name": "python3"
  },
  "language_info": {
   "codemirror_mode": {
    "name": "ipython",
    "version": 3
   },
   "file_extension": ".py",
   "mimetype": "text/x-python",
   "name": "python",
   "nbconvert_exporter": "python",
   "pygments_lexer": "ipython3",
   "version": "3.7.8"
  }
 },
 "nbformat": 4,
 "nbformat_minor": 4
}
