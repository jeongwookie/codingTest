{
 "cells": [
  {
   "cell_type": "markdown",
   "metadata": {},
   "source": [
    "### 내 풀이\n",
    "- https://programmers.co.kr/learn/courses/30/lessons/42627"
   ]
  },
  {
   "cell_type": "code",
   "execution_count": 2,
   "metadata": {
    "execution": {
     "iopub.execute_input": "2021-10-21T07:40:14.064582Z",
     "iopub.status.busy": "2021-10-21T07:40:14.064245Z",
     "iopub.status.idle": "2021-10-21T07:40:14.076645Z",
     "shell.execute_reply": "2021-10-21T07:40:14.075831Z",
     "shell.execute_reply.started": "2021-10-21T07:40:14.064548Z"
    }
   },
   "outputs": [],
   "source": [
    "class Disk():\n",
    "    \n",
    "    def __init__(self): # input\n",
    "        self.proceeding = False # 진행중인지 아닌지 T/F\n",
    "        self.time = 0\n",
    "        self._queue = []\n",
    "    \n",
    "    def push(self, job): # job : [0,3]\n",
    "        # if disk가 비어있는 경우, proceeding이 false인 경우\n",
    "        if not self.proceeding:\n",
    "            self._queue.append(job)\n",
    "            self.proceeding = True\n",
    "            return True\n",
    "        \n",
    "        else:\n",
    "            return False\n",
    "        \n",
    "    def finish(self):\n",
    "        return True\n",
    "        \n",
    "\n",
    "\n",
    "\n",
    "def solution(jobs):\n",
    "    \"\"\"\n",
    "    jobs = [[작업 요청 시점, 작업 소요 시간], ...] 으로 주어짐.\n",
    "    각 작업의 요청부터 종료까지의 시간을 잰 후 전에 len으로 나누어 산술평균을 구함.\n",
    "    해당 평균의 최소값을 리턴하자. 소수점 이하는 버림 처리.\n",
    "    하드디스크가 작업을 아예 수행하고 있지 않은 상태이면, 먼저 들어온 녀석부터 처리함. -> 이미 작업이 진행중인 상태에서만 순서를 정할수 있음.\n",
    "    \n",
    "    ex. jobs = [[0,3], [1,9], [2,6]]\n",
    "    \n",
    "    - 0초 시점부터 일이 들어온다고 장담할 수 없음.\n",
    "    - 가장 처음에 시작하는 놈은 미리 뽑아놓을 수 있음. (x[0] 기준으로 min소트)\n",
    "    \n",
    "\n",
    "    \"\"\"\n",
    "    \n",
    "    \n",
    "    answer = 0\n",
    "    return answer"
   ]
  },
  {
   "cell_type": "markdown",
   "metadata": {},
   "source": [
    "### 풀이\n",
    "\n",
    "- 스케쥴링을 하는 기본 알고리즘 중 하나임\n",
    "- SJF (Shortest Job First) 알고리즘 \n",
    "- Interval Scheduling 기법이라고도 함\n",
    "- 빨리 끝나는 프로세스를 우선적으로 실행하다보면, 최적의 시간을 얻을 수 있다는 그리디 알고리즘 기법\n",
    "- 힙의 특징은 최솟값을 가진 원소를 맨 앞에 유지시켜주는 것인데, 프로세스 종료 시간을 기준으로 heap을 짜면 된다."
   ]
  },
  {
   "cell_type": "code",
   "execution_count": 23,
   "metadata": {
    "execution": {
     "iopub.execute_input": "2021-10-22T06:13:00.123514Z",
     "iopub.status.busy": "2021-10-22T06:13:00.123256Z",
     "iopub.status.idle": "2021-10-22T06:13:00.132372Z",
     "shell.execute_reply": "2021-10-22T06:13:00.131534Z",
     "shell.execute_reply.started": "2021-10-22T06:13:00.123486Z"
    }
   },
   "outputs": [],
   "source": [
    "def solution(jobs):\n",
    "    answer = 0\n",
    "    \n",
    "    # jobs를 요청 시간 기준으로 오름차순 sorting\n",
    "    jobs.sort()\n",
    "    \n",
    "    import heapq\n",
    "    task = []\n",
    "    \n",
    "    # time 변수를 통해 기록할껀데, jobs의 제일 처음 요청 시점으로 초기화를 해줌\n",
    "    time = jobs[0][0] # 0초에 입력되었다면 0\n",
    "    jobs_length = len(jobs)\n",
    "    \n",
    "    #1. task가 비어있는 경우, 제일 현재 time과 가까운 애를 jobs 안에서 뽑아서 처리한다.\n",
    "    #2. task가 쌓여있는 경우, task에서 뽑아서 처리해야함. task에는 조건에 맞는 item들이 처리 시간을 기준으로 minHeap으로 구성됨.\n",
    "    \n",
    "    \n",
    "    while jobs:\n",
    "        print(f\"현재 시각 : {time}s\")\n",
    "        \n",
    "        # 제일 처음 입력된 job부터 처리하기\n",
    "        if not task: # task가 비어있는 경우,\n",
    "            current_job = jobs.pop(0)\n",
    "            time += current_job[1] # time을 흐르게 함\n",
    "            answer += current_job[1] # 처리 시간 저장\n",
    "        \n",
    "        else: # task가 비어있지 않은 경우\n",
    "            current_job = heapq.heappop(task) # task안에 저장된 jobs들 중 처리 시간이 가장 짧은 애를 뽑음. 자리가 바뀐 상태이다.\n",
    "            time += current_job[0]\n",
    "            answer += (time - current_job[1]) # 현재 시간에서 job이 요청된 시간을 빼줌\n",
    "        \n",
    "        print(f\"{current_job}을 처리하고 {time}s 가 되었습니다.\")\n",
    "        \n",
    "        # 하나의 job을 처리한 만큼 시간이 흘렀을껀데 그 사이 시간대에 요청들어온 jobs를 전부 heap에 넣어줌\n",
    "        ## 그 사이에 요청이 하나도 안들어왔으면? 아니면 jobs가 비었다면? 인덱싱할때는 반드시 비었을때를 생각해서 넣어줘야한다.\n",
    "        while len(jobs) != 0 and jobs[0][0] < time:\n",
    "            # 현재 시각 미만에서 처리 요청이 들어온 jobs들을 push. 이때 모듈이 첫번째 element를 기준으로 minHeap을 만들기때문에, 자리바꾸기 해줘야함.\n",
    "            heapq.heappush(task, jobs.pop(0)[::-1]) \n",
    "            if not jobs:\n",
    "                break\n",
    "        \n",
    "        print(f\"Task : {task}\")\n",
    "    \n",
    "    while task:\n",
    "        current_job = heapq.heappop(task)\n",
    "        time += current_job[0]\n",
    "        answer += (time - current_job[1])\n",
    "        print(f\"{current_job}을 처리하고 {time}s 가 되었습니다.\")\n",
    "        \n",
    "    return answer//jobs_length\n",
    "        "
   ]
  },
  {
   "cell_type": "code",
   "execution_count": 24,
   "metadata": {
    "execution": {
     "iopub.execute_input": "2021-10-22T06:13:00.225229Z",
     "iopub.status.busy": "2021-10-22T06:13:00.224918Z",
     "iopub.status.idle": "2021-10-22T06:13:00.232639Z",
     "shell.execute_reply": "2021-10-22T06:13:00.231508Z",
     "shell.execute_reply.started": "2021-10-22T06:13:00.225198Z"
    }
   },
   "outputs": [
    {
     "name": "stdout",
     "output_type": "stream",
     "text": [
      "현재 시각 : 0s\n",
      "[0, 3]을 처리하고 3s 가 되었습니다.\n",
      "Task : [[6, 2], [9, 1]]\n",
      "[6, 2]을 처리하고 9s 가 되었습니다.\n",
      "[9, 1]을 처리하고 18s 가 되었습니다.\n"
     ]
    },
    {
     "data": {
      "text/plain": [
       "9"
      ]
     },
     "execution_count": 24,
     "metadata": {},
     "output_type": "execute_result"
    }
   ],
   "source": [
    "jobs = [[0, 3], [1, 9], [2, 6]]\n",
    "solution(jobs)"
   ]
  },
  {
   "cell_type": "code",
   "execution_count": 25,
   "metadata": {
    "execution": {
     "iopub.execute_input": "2021-10-22T06:13:01.650439Z",
     "iopub.status.busy": "2021-10-22T06:13:01.650180Z",
     "iopub.status.idle": "2021-10-22T06:13:01.657247Z",
     "shell.execute_reply": "2021-10-22T06:13:01.656350Z",
     "shell.execute_reply.started": "2021-10-22T06:13:01.650411Z"
    }
   },
   "outputs": [
    {
     "name": "stdout",
     "output_type": "stream",
     "text": [
      "현재 시각 : 0s\n",
      "[0, 3]을 처리하고 3s 가 되었습니다.\n",
      "Task : [[6, 2], [9, 1]]\n",
      "현재 시각 : 3s\n",
      "[6, 2]을 처리하고 9s 가 되었습니다.\n",
      "Task : [[9, 1]]\n",
      "현재 시각 : 9s\n",
      "[9, 1]을 처리하고 18s 가 되었습니다.\n",
      "Task : []\n",
      "현재 시각 : 18s\n",
      "[30, 3]을 처리하고 21s 가 되었습니다.\n",
      "Task : []\n"
     ]
    },
    {
     "data": {
      "text/plain": [
       "7"
      ]
     },
     "execution_count": 25,
     "metadata": {},
     "output_type": "execute_result"
    }
   ],
   "source": [
    "jobs = [[0, 3], [1, 9], [2, 6], [30, 3]]\n",
    "solution(jobs)"
   ]
  },
  {
   "cell_type": "markdown",
   "metadata": {},
   "source": [
    "### 하루 지나고 다시 풀이"
   ]
  },
  {
   "cell_type": "code",
   "execution_count": 77,
   "metadata": {
    "execution": {
     "iopub.execute_input": "2021-10-22T08:40:27.310173Z",
     "iopub.status.busy": "2021-10-22T08:40:27.309922Z",
     "iopub.status.idle": "2021-10-22T08:40:27.320140Z",
     "shell.execute_reply": "2021-10-22T08:40:27.319331Z",
     "shell.execute_reply.started": "2021-10-22T08:40:27.310145Z"
    }
   },
   "outputs": [],
   "source": [
    "import heapq\n",
    "\n",
    "def heap_task_processing(heap, time, ans): \n",
    "    print(f\"heap이 비어있지 않음. heap : {heap}\")\n",
    "    \n",
    "    job = heapq.heappop(heap) # 작업 소요 시간이 적은 것 부터 뽑아서 처리. [[작업 소요 시간, 작업 요청 시점]] 순서\n",
    "    print(f\"current job : {job}\")\n",
    "\n",
    "    time += job[0]\n",
    "    ans += (time - job[1])\n",
    "    \n",
    "    print(f\"{time}s 에 도달.\")\n",
    "    return heap, time, ans\n",
    "    \n",
    "def solution(jobs):\n",
    "    \"\"\"\n",
    "    jobs = [[작업이 요청되는 시점, 작업의 소요 시간]]\n",
    "    예제 분석을 통해, 각 작업의 대기 시간을 줄이는 것이 핵심이며 이를 만족하려면 작업의 소요 시간 자체가 작은 순서대로 작업을 요청해야 함을 알았다.\n",
    "    heapq를 사용하면, MinHeap으로 셋팅되며 작업의 소요시간이 적은 순서대로 pop하는 것이 가능하다.\n",
    "    \"\"\"\n",
    "    ans = 0 # 누적 작업 처리 시간\n",
    "    time = 0 # 현재 시간\n",
    "    heap = [] # 중간 작업 저장소\n",
    "    jobs_length = len(jobs) # 나중에 평균내기 위해 len을 미리 저장\n",
    "    \n",
    "    #1. 요청된 jobs중 작업 요청 시점이 가장 작은 job을 먼저 수행해야한다.\n",
    "    sorted_jobs = sorted(jobs)\n",
    "    print(sorted_jobs)\n",
    "    \n",
    "    #2. jobs중 가장 먼저 들어온것부터 수행 시작.\n",
    "    ## time이 기본적으로 0으로 되어있는데, 첫 시작이 0이 아닐수도 있다. 제일 첫 작업만을 검사한다.\n",
    "    if sorted_jobs[0][0] != 0:\n",
    "        time = sorted_jobs[0][0]\n",
    "    print(f\"첫 작업이 들어온 시간 : {time}s\")\n",
    "    \n",
    "    while sorted_jobs:\n",
    "        \n",
    "        #2.1 heap이 비어있으면, sorted_jobs에서 새로 작업을 뽑아서 수행\n",
    "        if not heap:\n",
    "            job = sorted_jobs.pop(0) # pop을 사용하기 때문에, sorted_jobs가 비면 에러가 난다.\n",
    "            print(f\"current job : {job}\")\n",
    "\n",
    "            ## 시작 시간이 job[0]과 같지 않으면 갱신해준다.\n",
    "            if time != job[0]:\n",
    "                time = job[0]\n",
    "            print(f\"현재 시간 : {time}s\")\n",
    "            \n",
    "            #3. 해당 job가 수행되면, ans와 time이 지나감\n",
    "            time += job[1] \n",
    "            ans += (time - job[0]) # 현재 시간 - 요청 시작 시점 = 대기시간까지 포함한 총 처리 시간\n",
    "        \n",
    "        #2.2 heap이 비어있지 않으면, 해당 heap에서 가장 짧은 작업소요시간이 걸리는 작업을 뽑아서 처리함.\n",
    "        else:\n",
    "            print(f\"현재 시간 : {time}s\")\n",
    "            heap, time, ans = heap_task_processing(heap, time, ans)\n",
    "            \n",
    "        #4. job하나가 끝났고, time을 갱신 후 그사이에 요청된 작업을 heap에 저장해둔다.\n",
    "        ## sorted_jobs는 작업 요청 시점 기준으로 정렬되어 있으므로 순서를 상관하지 않아도 된다.\n",
    "        print(f\"{time}s 이하에 요청된 작업들을 찾아서 저장한다.\")\n",
    "        while sorted_jobs:\n",
    "            j = sorted_jobs[0] # 젤 첫번째 애들만\n",
    "            if j[0] < time:\n",
    "                print(f\"heap에 {j} 작업 쌓아두기\")\n",
    "                heapq.heappush(heap, [j[1],j[0]])\n",
    "                sorted_jobs.pop(0)\n",
    "            else:\n",
    "                break\n",
    "        print(f\"{time}s 에 도달하기 전 요청된 작업들 : {heap}\")\n",
    "        \n",
    "    #5. sorted_jobs가 비어있는데, 남은 작업들이 전부 heap에 들어가있을 경우 해당 작업을 마무리한다.\n",
    "    while heap:\n",
    "        heap, time, ans = heap_task_processing(heap, time, ans)\n",
    "    \n",
    "    #6. ans를 문제에서 원하는 대로 재구성한 후 리턴함.\n",
    "    return ans // jobs_length\n",
    "    "
   ]
  },
  {
   "cell_type": "code",
   "execution_count": 78,
   "metadata": {
    "execution": {
     "iopub.execute_input": "2021-10-22T08:40:28.019376Z",
     "iopub.status.busy": "2021-10-22T08:40:28.019072Z",
     "iopub.status.idle": "2021-10-22T08:40:28.025776Z",
     "shell.execute_reply": "2021-10-22T08:40:28.024914Z",
     "shell.execute_reply.started": "2021-10-22T08:40:28.019345Z"
    }
   },
   "outputs": [
    {
     "name": "stdout",
     "output_type": "stream",
     "text": [
      "[[0, 3], [1, 9], [2, 6], [3, 1]]\n",
      "첫 작업이 들어온 시간 : 0s\n",
      "current job : [0, 3]\n",
      "현재 시간 : 0s\n",
      "3s 이하에 요청된 작업들을 찾아서 저장한다.\n",
      "heap에 [1, 9] 작업 쌓아두기\n",
      "heap에 [2, 6] 작업 쌓아두기\n",
      "3s 에 도달하기 전 요청된 작업들 : [[6, 2], [9, 1]]\n",
      "현재 시간 : 3s\n",
      "heap이 비어있지 않음. heap : [[6, 2], [9, 1]]\n",
      "current job : [6, 2]\n",
      "9s 에 도달.\n",
      "9s 이하에 요청된 작업들을 찾아서 저장한다.\n",
      "heap에 [3, 1] 작업 쌓아두기\n",
      "9s 에 도달하기 전 요청된 작업들 : [[1, 3], [9, 1]]\n",
      "heap이 비어있지 않음. heap : [[1, 3], [9, 1]]\n",
      "current job : [1, 3]\n",
      "10s 에 도달.\n",
      "heap이 비어있지 않음. heap : [[9, 1]]\n",
      "current job : [9, 1]\n",
      "19s 에 도달.\n"
     ]
    },
    {
     "data": {
      "text/plain": [
       "8"
      ]
     },
     "execution_count": 78,
     "metadata": {},
     "output_type": "execute_result"
    }
   ],
   "source": [
    "jobs = [[0, 3], [1, 9], [2, 6], [3,1]]\n",
    "solution(jobs)"
   ]
  },
  {
   "cell_type": "code",
   "execution_count": 80,
   "metadata": {
    "execution": {
     "iopub.execute_input": "2021-10-22T08:40:45.634921Z",
     "iopub.status.busy": "2021-10-22T08:40:45.634649Z",
     "iopub.status.idle": "2021-10-22T08:40:45.641768Z",
     "shell.execute_reply": "2021-10-22T08:40:45.640839Z",
     "shell.execute_reply.started": "2021-10-22T08:40:45.634892Z"
    }
   },
   "outputs": [
    {
     "name": "stdout",
     "output_type": "stream",
     "text": [
      "[[0, 3], [1, 9], [2, 6], [30, 3]]\n",
      "첫 작업이 들어온 시간 : 0s\n",
      "current job : [0, 3]\n",
      "현재 시간 : 0s\n",
      "3s 이하에 요청된 작업들을 찾아서 저장한다.\n",
      "heap에 [1, 9] 작업 쌓아두기\n",
      "heap에 [2, 6] 작업 쌓아두기\n",
      "3s 에 도달하기 전 요청된 작업들 : [[6, 2], [9, 1]]\n",
      "현재 시간 : 3s\n",
      "heap이 비어있지 않음. heap : [[6, 2], [9, 1]]\n",
      "current job : [6, 2]\n",
      "9s 에 도달.\n",
      "9s 이하에 요청된 작업들을 찾아서 저장한다.\n",
      "9s 에 도달하기 전 요청된 작업들 : [[9, 1]]\n",
      "현재 시간 : 9s\n",
      "heap이 비어있지 않음. heap : [[9, 1]]\n",
      "current job : [9, 1]\n",
      "18s 에 도달.\n",
      "18s 이하에 요청된 작업들을 찾아서 저장한다.\n",
      "18s 에 도달하기 전 요청된 작업들 : []\n",
      "current job : [30, 3]\n",
      "현재 시간 : 30s\n",
      "33s 이하에 요청된 작업들을 찾아서 저장한다.\n",
      "33s 에 도달하기 전 요청된 작업들 : []\n"
     ]
    },
    {
     "data": {
      "text/plain": [
       "7"
      ]
     },
     "execution_count": 80,
     "metadata": {},
     "output_type": "execute_result"
    }
   ],
   "source": [
    "jobs = [[0, 3], [1, 9], [2, 6], [30, 3]]\n",
    "solution(jobs)"
   ]
  },
  {
   "cell_type": "markdown",
   "metadata": {},
   "source": [
    "### 2차 제출물\n",
    "- 로직이 잘못됨"
   ]
  },
  {
   "cell_type": "code",
   "execution_count": 62,
   "metadata": {
    "execution": {
     "iopub.execute_input": "2021-10-22T08:14:57.885934Z",
     "iopub.status.busy": "2021-10-22T08:14:57.885535Z",
     "iopub.status.idle": "2021-10-22T08:14:57.895075Z",
     "shell.execute_reply": "2021-10-22T08:14:57.893978Z",
     "shell.execute_reply.started": "2021-10-22T08:14:57.885899Z"
    }
   },
   "outputs": [],
   "source": [
    "import heapq\n",
    "\n",
    "def heap_task_processing(heap, time, ans): # time이랑 ans를 static변수로 해서 클래스 만들어도 되겠네.. \n",
    "    \n",
    "    while heap:\n",
    "        job = heapq.heappop(heap) # 작업 소요 시간이 적은 것 부터 뽑아서 처리. [[작업 소요 시간, 작업 요청 시점]] 순서\n",
    "        time += job[0]\n",
    "        ans += (time - job[1])\n",
    "        \n",
    "    return time, ans\n",
    "    \n",
    "def solution(jobs):\n",
    "    ans = 0 # 누적 작업 처리 시간\n",
    "    time = 0 # 현재 시간\n",
    "    heap = [] # 중간 작업 저장소\n",
    "    jobs_length = len(jobs) # 나중에 평균내기 위해 len을 미리 저장\n",
    "    \n",
    "    #1. 요청된 jobs중 작업 요청 시점이 가장 작은 job을 먼저 수행해야한다.\n",
    "    sorted_jobs = sorted(jobs)\n",
    "    \n",
    "    #2. jobs중 가장 먼저 들어온것부터 수행 시작.\n",
    "    ## time이 기본적으로 0으로 되어있는데, 첫 시작이 0이 아닐수도 있다. 제일 첫 작업만을 검사한다.\n",
    "    if sorted_jobs[0][0] != 0:\n",
    "        time = sorted_jobs[0][0]\n",
    "\n",
    "    while sorted_jobs:\n",
    "        \n",
    "        #2.1 heap이 비어있으면, sorted_jobs에서 새로 작업을 뽑아서 수행\n",
    "        if not heap:\n",
    "            job = sorted_jobs.pop(0) # pop을 사용하기 때문에, sorted_jobs가 비면 에러가 난다.\n",
    "            \n",
    "            ## 시작 시간이 job[0]과 같지 않으면 갱신해준다.\n",
    "            if time != job[0]:\n",
    "                time = job[0]\n",
    "            \n",
    "            #3. 해당 job가 수행되면, ans와 time이 지나감\n",
    "            time += job[1] \n",
    "            ans += (time - job[0]) # 현재 시간 - 요청 시작 시점 = 대기시간까지 포함한 총 처리 시간\n",
    "            \n",
    "            #4. job하나가 끝났고, 그사이에 요청된 작업을 heap에 저장해둔다.\n",
    "            ## sorted_jobs는 작업 요청 시점 기준으로 정렬되어 있으므로 순서를 상관하지 않아도 된다.\n",
    "            while sorted_jobs:\n",
    "                j = sorted_jobs[0] # 젤 첫번째 애들만\n",
    "                if j[0] < time:\n",
    "                    heapq.heappush(heap, [j[1],j[0]])\n",
    "                    sorted_jobs.pop(0)\n",
    "                else:\n",
    "                    break\n",
    "                    \n",
    "        #2.2 heap이 비어있지 않으면, heap에서 작업을 뽑아서 다 수행할때까지 대기.\n",
    "        else:\n",
    "            time, ans = heap_task_processing(heap, time, ans)\n",
    "            \n",
    "    \n",
    "    #5. sorted_jobs가 비어있는데, 남은 작업들이 전부 heap에 들어가있을 경우 해당 작업을 마무리한다.\n",
    "    time, ans = heap_task_processing(heap, time, ans)\n",
    "    \n",
    "    #6. ans를 문제에서 원하는 대로 재구성한 후 리턴함.\n",
    "    return ans // jobs_length\n",
    "    "
   ]
  },
  {
   "cell_type": "code",
   "execution_count": 63,
   "metadata": {
    "execution": {
     "iopub.execute_input": "2021-10-22T08:15:02.955960Z",
     "iopub.status.busy": "2021-10-22T08:15:02.955688Z",
     "iopub.status.idle": "2021-10-22T08:15:02.961273Z",
     "shell.execute_reply": "2021-10-22T08:15:02.960543Z",
     "shell.execute_reply.started": "2021-10-22T08:15:02.955931Z"
    }
   },
   "outputs": [
    {
     "data": {
      "text/plain": [
       "7"
      ]
     },
     "execution_count": 63,
     "metadata": {},
     "output_type": "execute_result"
    }
   ],
   "source": [
    "jobs = [[0, 3], [1, 9], [2, 6], [30, 3]]\n",
    "solution(jobs)"
   ]
  },
  {
   "cell_type": "markdown",
   "metadata": {},
   "source": [
    "### 3차 제출물\n",
    "- heap에 있는 작업을 관리할때, 하나의 작업이 진행된 이후에는 time을 갱신하여 heap과 jobs 모두를 관찰해야하는데 그걸 안했다."
   ]
  },
  {
   "cell_type": "code",
   "execution_count": 83,
   "metadata": {
    "execution": {
     "iopub.execute_input": "2021-10-22T08:46:31.752119Z",
     "iopub.status.busy": "2021-10-22T08:46:31.751809Z",
     "iopub.status.idle": "2021-10-22T08:46:31.766593Z",
     "shell.execute_reply": "2021-10-22T08:46:31.765597Z",
     "shell.execute_reply.started": "2021-10-22T08:46:31.752088Z"
    }
   },
   "outputs": [],
   "source": [
    "import heapq\n",
    "\n",
    "def heap_task_processing(heap, time, ans): \n",
    "    job = heapq.heappop(heap) # 작업 소요 시간이 적은 것 부터 뽑아서 처리. [[작업 소요 시간, 작업 요청 시점]] 순서\n",
    "\n",
    "    time += job[0]\n",
    "    ans += (time - job[1])\n",
    "    \n",
    "    return heap, time, ans\n",
    "    \n",
    "def solution(jobs):\n",
    "\n",
    "    ans = 0 # 누적 작업 처리 시간\n",
    "    time = 0 # 현재 시간\n",
    "    heap = [] # 중간 작업 저장소\n",
    "    jobs_length = len(jobs) # 나중에 평균내기 위해 len을 미리 저장\n",
    "    \n",
    "    #1. 요청된 jobs중 작업 요청 시점이 가장 작은 job을 먼저 수행해야한다.\n",
    "    sorted_jobs = sorted(jobs)\n",
    "    \n",
    "    #2. jobs중 가장 먼저 들어온것부터 수행 시작.\n",
    "    ## time이 기본적으로 0으로 되어있는데, 첫 시작이 0이 아닐수도 있다. 제일 첫 작업만을 검사한다.\n",
    "    if sorted_jobs[0][0] != 0:\n",
    "        time = sorted_jobs[0][0]\n",
    "    \n",
    "    while sorted_jobs:\n",
    "        \n",
    "        #2.1 heap이 비어있으면, sorted_jobs에서 새로 작업을 뽑아서 수행\n",
    "        if not heap:\n",
    "            job = sorted_jobs.pop(0) # pop을 사용하기 때문에, sorted_jobs가 비면 에러가 난다.\n",
    "\n",
    "            ## 시작 시간이 job[0]과 같지 않으면 갱신해준다.\n",
    "            if time != job[0]:\n",
    "                time = job[0]\n",
    "            \n",
    "            #3. 해당 job가 수행되면, ans와 time이 지나감\n",
    "            time += job[1] \n",
    "            ans += (time - job[0]) # 현재 시간 - 요청 시작 시점 = 대기시간까지 포함한 총 처리 시간\n",
    "        \n",
    "        #2.2 heap이 비어있지 않으면, 해당 heap에서 가장 짧은 작업소요시간이 걸리는 작업을 뽑아서 처리함.\n",
    "        else:\n",
    "            heap, time, ans = heap_task_processing(heap, time, ans)\n",
    "            \n",
    "        #4. job하나가 끝났고, time을 갱신 후 그사이에 요청된 작업을 heap에 저장해둔다.\n",
    "        ## sorted_jobs는 작업 요청 시점 기준으로 정렬되어 있으므로 순서를 상관하지 않아도 된다.\n",
    "        while sorted_jobs:\n",
    "            j = sorted_jobs[0] # 젤 첫번째 애들만\n",
    "            if j[0] < time:\n",
    "                heapq.heappush(heap, [j[1],j[0]])\n",
    "                sorted_jobs.pop(0)\n",
    "            else:\n",
    "                break\n",
    "        \n",
    "    #5. sorted_jobs가 비어있는데, 남은 작업들이 전부 heap에 들어가있을 경우 해당 작업을 마무리한다.\n",
    "    while heap:\n",
    "        heap, time, ans = heap_task_processing(heap, time, ans)\n",
    "    \n",
    "    #6. ans를 문제에서 원하는 대로 재구성한 후 리턴함.\n",
    "    return ans // jobs_length\n",
    "    "
   ]
  },
  {
   "cell_type": "code",
   "execution_count": 84,
   "metadata": {
    "execution": {
     "iopub.execute_input": "2021-10-22T08:46:31.862655Z",
     "iopub.status.busy": "2021-10-22T08:46:31.862384Z",
     "iopub.status.idle": "2021-10-22T08:46:31.868379Z",
     "shell.execute_reply": "2021-10-22T08:46:31.867456Z",
     "shell.execute_reply.started": "2021-10-22T08:46:31.862628Z"
    }
   },
   "outputs": [
    {
     "data": {
      "text/plain": [
       "7"
      ]
     },
     "execution_count": 84,
     "metadata": {},
     "output_type": "execute_result"
    }
   ],
   "source": [
    "jobs = [[0, 3], [1, 9], [2, 6], [30, 3]]\n",
    "solution(jobs)"
   ]
  },
  {
   "cell_type": "markdown",
   "metadata": {},
   "source": [
    "### 다른 풀이"
   ]
  },
  {
   "cell_type": "code",
   "execution_count": 94,
   "metadata": {
    "execution": {
     "iopub.execute_input": "2021-10-22T09:10:28.132524Z",
     "iopub.status.busy": "2021-10-22T09:10:28.132046Z",
     "iopub.status.idle": "2021-10-22T09:10:28.141920Z",
     "shell.execute_reply": "2021-10-22T09:10:28.140484Z",
     "shell.execute_reply.started": "2021-10-22T09:10:28.132463Z"
    }
   },
   "outputs": [],
   "source": [
    "import heapq\n",
    "from collections import deque\n",
    "\n",
    "def solution(jobs):\n",
    "    \"\"\"\n",
    "    jobs = [[작업이 요청되는 시점, 작업의 소요 시간]]\n",
    "    \"\"\"\n",
    "    #1. 작업이 요청되는 시점 기준으로 정렬하고, minHeap의 기준을 작업 소요 시간으로 잡기 위해 원소 위치를 바꿈\n",
    "    tasks = deque(sorted([[j[1], j[0]] for j in jobs], key=lambda x: x[1])) # [[작업의 소요 시간, 작업이 요청되는 시점]]\n",
    "    print(tasks)\n",
    "    \n",
    "    #2. heap 만들고, 제일 처음 요청한 작업을 넣음\n",
    "    heap = []\n",
    "    heapq.heappush(heap, tasks.popleft())\n",
    "    current_time, total_response_time = 0, 0\n",
    "    \n",
    "    #3. loop\n",
    "    ## 풀이를 읽어보니, heap을 중간 저장소로 쓴게 아니고, 반드시 모든 job들이 수행되기 전에 거쳐야 할 지점으로 만들어놨음.\n",
    "    while heap:\n",
    "        print(f\"현재 작업 : {heap[0]}\")\n",
    "        job_duration_time, job_start_pointer = heapq.heappop(heap)\n",
    "        current_time = max(current_time + job_duration_time, job_start_pointer + job_duration_time) # job_start_pointer가 0이냐 아니냐에 따라서 결과가 달라짐.\n",
    "        total_response_time += current_time - job_start_pointer\n",
    "        print(f\"현재 시각 : {current_time}s\")\n",
    "        \n",
    "        while tasks and tasks[0][1] <= current_time: # tasks가 존재하고, 바로 뒤의 작업이 요청되는 시점이 현재 시각보다 작거나 같은 경우, 힙에 다 넣어줌\n",
    "            heapq.heappush(heap, tasks.popleft()) # tasks에 있는 작업 중 현재 시각보다 전에 요청 들어온 작업들이 다 힙에 들어간것임.\n",
    "        \n",
    "        print(f\"{current_time}s 보다 작거나 같은 시간대에 요청 들어온 작업들 : {heap}\")\n",
    "        \n",
    "        if tasks and not heap: # tasks는 남아있고 힙은 빈 경우, 힙에 무조건 넣어줌\n",
    "            heapq.heappush(heap, tasks.popleft())\n",
    "    \n",
    "    return total_response_time // len(jobs)"
   ]
  },
  {
   "cell_type": "code",
   "execution_count": 95,
   "metadata": {
    "execution": {
     "iopub.execute_input": "2021-10-22T09:10:28.495652Z",
     "iopub.status.busy": "2021-10-22T09:10:28.495337Z",
     "iopub.status.idle": "2021-10-22T09:10:28.502804Z",
     "shell.execute_reply": "2021-10-22T09:10:28.501994Z",
     "shell.execute_reply.started": "2021-10-22T09:10:28.495620Z"
    }
   },
   "outputs": [
    {
     "name": "stdout",
     "output_type": "stream",
     "text": [
      "deque([[3, 0], [9, 1], [7, 1], [6, 2], [3, 30]])\n",
      "현재 작업 : [3, 0]\n",
      "현재 시각 : 3s\n",
      "3s 보다 작거나 같은 시간대에 요청 들어온 작업들 : [[6, 2], [9, 1], [7, 1]]\n",
      "현재 작업 : [6, 2]\n",
      "현재 시각 : 9s\n",
      "9s 보다 작거나 같은 시간대에 요청 들어온 작업들 : [[7, 1], [9, 1]]\n",
      "현재 작업 : [7, 1]\n",
      "현재 시각 : 16s\n",
      "16s 보다 작거나 같은 시간대에 요청 들어온 작업들 : [[9, 1]]\n",
      "현재 작업 : [9, 1]\n",
      "현재 시각 : 25s\n",
      "25s 보다 작거나 같은 시간대에 요청 들어온 작업들 : []\n",
      "현재 작업 : [3, 30]\n",
      "현재 시각 : 33s\n",
      "33s 보다 작거나 같은 시간대에 요청 들어온 작업들 : []\n"
     ]
    },
    {
     "data": {
      "text/plain": [
       "10"
      ]
     },
     "execution_count": 95,
     "metadata": {},
     "output_type": "execute_result"
    }
   ],
   "source": [
    "jobs = [[0, 3], [1, 9], [1,7], [2, 6], [30, 3]]\n",
    "solution(jobs)"
   ]
  },
  {
   "cell_type": "code",
   "execution_count": 96,
   "metadata": {
    "execution": {
     "iopub.execute_input": "2021-10-22T09:10:52.385143Z",
     "iopub.status.busy": "2021-10-22T09:10:52.384881Z",
     "iopub.status.idle": "2021-10-22T09:10:52.391249Z",
     "shell.execute_reply": "2021-10-22T09:10:52.390379Z",
     "shell.execute_reply.started": "2021-10-22T09:10:52.385111Z"
    }
   },
   "outputs": [
    {
     "name": "stdout",
     "output_type": "stream",
     "text": [
      "deque([[3, 0], [9, 1], [6, 2], [3, 30]])\n",
      "현재 작업 : [3, 0]\n",
      "현재 시각 : 3s\n",
      "3s 보다 작거나 같은 시간대에 요청 들어온 작업들 : [[6, 2], [9, 1]]\n",
      "현재 작업 : [6, 2]\n",
      "현재 시각 : 9s\n",
      "9s 보다 작거나 같은 시간대에 요청 들어온 작업들 : [[9, 1]]\n",
      "현재 작업 : [9, 1]\n",
      "현재 시각 : 18s\n",
      "18s 보다 작거나 같은 시간대에 요청 들어온 작업들 : []\n",
      "현재 작업 : [3, 30]\n",
      "현재 시각 : 33s\n",
      "33s 보다 작거나 같은 시간대에 요청 들어온 작업들 : []\n"
     ]
    },
    {
     "data": {
      "text/plain": [
       "7"
      ]
     },
     "execution_count": 96,
     "metadata": {},
     "output_type": "execute_result"
    }
   ],
   "source": [
    "jobs = [[0, 3], [1, 9], [2, 6], [30, 3]]\n",
    "solution(jobs)"
   ]
  },
  {
   "cell_type": "code",
   "execution_count": null,
   "metadata": {},
   "outputs": [],
   "source": []
  }
 ],
 "metadata": {
  "kernelspec": {
   "display_name": "Python 3",
   "language": "python",
   "name": "python3"
  },
  "language_info": {
   "codemirror_mode": {
    "name": "ipython",
    "version": 3
   },
   "file_extension": ".py",
   "mimetype": "text/x-python",
   "name": "python",
   "nbconvert_exporter": "python",
   "pygments_lexer": "ipython3",
   "version": "3.7.8"
  }
 },
 "nbformat": 4,
 "nbformat_minor": 4
}
