{
 "cells": [
  {
   "cell_type": "markdown",
   "metadata": {},
   "source": [
    "### 내 풀이\n",
    "- https://programmers.co.kr/learn/courses/30/lessons/42628"
   ]
  },
  {
   "cell_type": "code",
   "execution_count": 62,
   "metadata": {
    "execution": {
     "iopub.execute_input": "2021-10-25T07:28:25.318068Z",
     "iopub.status.busy": "2021-10-25T07:28:25.317752Z",
     "iopub.status.idle": "2021-10-25T07:28:25.329078Z",
     "shell.execute_reply": "2021-10-25T07:28:25.327873Z",
     "shell.execute_reply.started": "2021-10-25T07:28:25.318035Z"
    }
   },
   "outputs": [],
   "source": [
    "import heapq\n",
    "\n",
    "class Queue():\n",
    "    def __init__(self):\n",
    "        self.heap = [] \n",
    "        self.max_heap = []\n",
    "    \n",
    "    def isEmpty(self):\n",
    "        return len(self.heap) == 0 & len(self.max_heap) == 0\n",
    "    \n",
    "    def insert(self, number):\n",
    "        heapq.heappush(self.heap, number)\n",
    "        heapq.heappush(self.max_heap, (-number, number)) # Max Heap으로 정렬\n",
    "        return True\n",
    "    \n",
    "    def removeMin(self):\n",
    "        if not self.heap:\n",
    "            return None\n",
    "        \n",
    "        poped = heapq.heappop(self.heap)\n",
    "        self.max_heap.remove((-poped, poped))\n",
    "        return poped\n",
    "\n",
    "    def removeMax(self):\n",
    "        if not self.max_heap:\n",
    "            return None\n",
    "        \n",
    "        poped = heapq.heappop(self.max_heap)[1]\n",
    "        self.heap.remove(poped)\n",
    "        return poped\n",
    "    \n",
    "        \n",
    "    def __repr__(self):\n",
    "        return f\"Min Heap : {self.heap}, Max Heap : {self.max_heap}\"\n",
    "        \n",
    "\n",
    "def solution(operations):\n",
    "    \"\"\"\n",
    "    큐에 삽입하는 연산, 최댓값 삭제 연산, 최솟값 삭제 연산 세가지 구현\n",
    "    큐 내에서 최댓값과 최솟값을 계속 추적할 수 있어야함.\n",
    "    operation 읽는 string 처리가 선행되어야함.\n",
    "    [\"I 7\",\"I 5\",\"I -5\",\"D -1\",\"D 1\"]\n",
    "    \"\"\"\n",
    "    #0. 미리 만들어놓은 class 인스턴스화\n",
    "    queue = Queue()\n",
    "    \n",
    "    for operation in operations:\n",
    "        #1. Insert\n",
    "        if operation.startswith(\"I\"):\n",
    "            queue.insert(int(operation.split(\" \")[-1]))\n",
    "            print(f\"Insert result : {queue}\") \n",
    "        else:\n",
    "            #2. Delete Min\n",
    "            if operation.endswith(\"-1\"):\n",
    "                queue.removeMin()\n",
    "            #3. Delete Max\n",
    "            else:\n",
    "                queue.removeMax()\n",
    "            print(f\"Delete result : {queue}\")\n",
    "            \n",
    "    #4. 결과 리턴\n",
    "    if queue.isEmpty():\n",
    "        return [0,0]\n",
    "    else:\n",
    "        return [queue.max_heap[0][1], queue.heap[0]]\n",
    "    "
   ]
  },
  {
   "cell_type": "code",
   "execution_count": 63,
   "metadata": {
    "execution": {
     "iopub.execute_input": "2021-10-25T07:28:26.095200Z",
     "iopub.status.busy": "2021-10-25T07:28:26.094933Z",
     "iopub.status.idle": "2021-10-25T07:28:26.101253Z",
     "shell.execute_reply": "2021-10-25T07:28:26.100260Z",
     "shell.execute_reply.started": "2021-10-25T07:28:26.095170Z"
    }
   },
   "outputs": [
    {
     "name": "stdout",
     "output_type": "stream",
     "text": [
      "Insert result : Min Heap : [7], Max Heap : [(-7, 7)]\n",
      "Insert result : Min Heap : [5, 7], Max Heap : [(-7, 7), (-5, 5)]\n",
      "Insert result : Min Heap : [-5, 7, 5], Max Heap : [(-7, 7), (-5, 5), (5, -5)]\n",
      "Delete result : Min Heap : [5, 7], Max Heap : [(-7, 7), (-5, 5)]\n"
     ]
    },
    {
     "data": {
      "text/plain": [
       "[7, 5]"
      ]
     },
     "execution_count": 63,
     "metadata": {},
     "output_type": "execute_result"
    }
   ],
   "source": [
    "operation = [\"I 7\",\"I 5\",\"I -5\",\"D -1\"]\n",
    "solution(operation)"
   ]
  },
  {
   "cell_type": "code",
   "execution_count": 64,
   "metadata": {
    "execution": {
     "iopub.execute_input": "2021-10-25T07:28:26.699969Z",
     "iopub.status.busy": "2021-10-25T07:28:26.699684Z",
     "iopub.status.idle": "2021-10-25T07:28:26.708164Z",
     "shell.execute_reply": "2021-10-25T07:28:26.707068Z",
     "shell.execute_reply.started": "2021-10-25T07:28:26.699938Z"
    }
   },
   "outputs": [
    {
     "name": "stdout",
     "output_type": "stream",
     "text": [
      "Insert result : Min Heap : [16], Max Heap : [(-16, 16)]\n",
      "Insert result : Min Heap : [-5643, 16], Max Heap : [(-16, 16), (5643, -5643)]\n",
      "Delete result : Min Heap : [16], Max Heap : [(-16, 16)]\n",
      "Delete result : Min Heap : [], Max Heap : []\n",
      "Delete result : Min Heap : [], Max Heap : []\n",
      "Insert result : Min Heap : [123], Max Heap : [(-123, 123)]\n",
      "Delete result : Min Heap : [], Max Heap : []\n"
     ]
    },
    {
     "data": {
      "text/plain": [
       "[0, 0]"
      ]
     },
     "execution_count": 64,
     "metadata": {},
     "output_type": "execute_result"
    }
   ],
   "source": [
    "operation = [\"I 16\", \"I -5643\", \"D -1\", \"D 1\", \"D 1\", \"I 123\", \"D -1\"]\n",
    "solution(operation)"
   ]
  },
  {
   "cell_type": "markdown",
   "metadata": {},
   "source": [
    "### 제출물"
   ]
  },
  {
   "cell_type": "code",
   "execution_count": 65,
   "metadata": {
    "execution": {
     "iopub.execute_input": "2021-10-25T07:29:01.147644Z",
     "iopub.status.busy": "2021-10-25T07:29:01.147292Z",
     "iopub.status.idle": "2021-10-25T07:29:01.156192Z",
     "shell.execute_reply": "2021-10-25T07:29:01.155413Z",
     "shell.execute_reply.started": "2021-10-25T07:29:01.147619Z"
    }
   },
   "outputs": [],
   "source": [
    "import heapq\n",
    "\n",
    "class Queue():\n",
    "    def __init__(self):\n",
    "        self.heap = [] \n",
    "        self.max_heap = []\n",
    "    \n",
    "    def isEmpty(self):\n",
    "        return len(self.heap) == 0 & len(self.max_heap) == 0\n",
    "    \n",
    "    def insert(self, number):\n",
    "        heapq.heappush(self.heap, number)\n",
    "        heapq.heappush(self.max_heap, (-number, number)) # Max Heap으로 정렬\n",
    "        return True\n",
    "    \n",
    "    def removeMin(self):\n",
    "        if not self.heap:\n",
    "            return None\n",
    "        \n",
    "        poped = heapq.heappop(self.heap)\n",
    "        self.max_heap.remove((-poped, poped))\n",
    "        return poped\n",
    "\n",
    "    def removeMax(self):\n",
    "        if not self.max_heap:\n",
    "            return None\n",
    "        \n",
    "        poped = heapq.heappop(self.max_heap)[1]\n",
    "        self.heap.remove(poped)\n",
    "        return poped\n",
    "        \n",
    "\n",
    "def solution(operations):\n",
    "    \"\"\"\n",
    "    큐에 삽입하는 연산, 최댓값 삭제 연산, 최솟값 삭제 연산 세가지 구현\n",
    "    큐 내에서 최댓값과 최솟값을 계속 추적할 수 있어야함.\n",
    "    operation 읽는 string 처리가 선행되어야함.\n",
    "    [\"I 7\",\"I 5\",\"I -5\",\"D -1\",\"D 1\"]\n",
    "    \"\"\"\n",
    "    #0. 미리 만들어놓은 class 인스턴스화\n",
    "    queue = Queue()\n",
    "    \n",
    "    for operation in operations:\n",
    "        #1. Insert\n",
    "        if operation.startswith(\"I\"):\n",
    "            queue.insert(int(operation.split(\" \")[-1]))\n",
    "        else:\n",
    "            #2. Delete Min\n",
    "            if operation.endswith(\"-1\"):\n",
    "                queue.removeMin()\n",
    "            #3. Delete Max\n",
    "            else:\n",
    "                queue.removeMax()\n",
    "            \n",
    "    #4. 결과 리턴\n",
    "    if queue.isEmpty():\n",
    "        return [0,0]\n",
    "    else:\n",
    "        return [queue.max_heap[0][1], queue.heap[0]]\n",
    "    "
   ]
  },
  {
   "cell_type": "code",
   "execution_count": 66,
   "metadata": {
    "execution": {
     "iopub.execute_input": "2021-10-25T07:29:01.253217Z",
     "iopub.status.busy": "2021-10-25T07:29:01.252853Z",
     "iopub.status.idle": "2021-10-25T07:29:01.258112Z",
     "shell.execute_reply": "2021-10-25T07:29:01.257491Z",
     "shell.execute_reply.started": "2021-10-25T07:29:01.253183Z"
    }
   },
   "outputs": [
    {
     "data": {
      "text/plain": [
       "[7, 5]"
      ]
     },
     "execution_count": 66,
     "metadata": {},
     "output_type": "execute_result"
    }
   ],
   "source": [
    "operation = [\"I 7\",\"I 5\",\"I -5\",\"D -1\"]\n",
    "solution(operation)"
   ]
  },
  {
   "cell_type": "code",
   "execution_count": 67,
   "metadata": {
    "execution": {
     "iopub.execute_input": "2021-10-25T07:29:01.680763Z",
     "iopub.status.busy": "2021-10-25T07:29:01.680486Z",
     "iopub.status.idle": "2021-10-25T07:29:01.686186Z",
     "shell.execute_reply": "2021-10-25T07:29:01.685532Z",
     "shell.execute_reply.started": "2021-10-25T07:29:01.680734Z"
    }
   },
   "outputs": [
    {
     "data": {
      "text/plain": [
       "[0, 0]"
      ]
     },
     "execution_count": 67,
     "metadata": {},
     "output_type": "execute_result"
    }
   ],
   "source": [
    "operation = [\"I 16\", \"I -5643\", \"D -1\", \"D 1\", \"D 1\", \"I 123\", \"D -1\"]\n",
    "solution(operation)"
   ]
  },
  {
   "cell_type": "markdown",
   "metadata": {},
   "source": [
    "### 생각\n",
    "- 풀때 개찝찝했던게 remove()를 쓴건데, 통과가 되는게 신기하네.\n",
    "- 인덱스가 아니라 값 자체로 접근을 한거라서, 느리지 않나? 걍 O(N)일껀데;; 근데 이게 되네\n",
    "- 다른 사람들 풀이 댓글 읽어보니까 통과되는게 이상하다는데 흠.. 결국은 heap 두개 만들어서 해당 힙의 데이터를 동기화하는게 중요한건데 remove 안쓰고 어케 하는걸까?\n",
    "- 이게 이상한게 결국 동기화를 remove 사용해서 해버리면,, O(N)인데 이러면 max나 min 사용해도 되는거 아님..?"
   ]
  },
  {
   "cell_type": "code",
   "execution_count": 68,
   "metadata": {
    "execution": {
     "iopub.execute_input": "2021-10-25T07:32:53.818415Z",
     "iopub.status.busy": "2021-10-25T07:32:53.818169Z",
     "iopub.status.idle": "2021-10-25T07:32:53.823488Z",
     "shell.execute_reply": "2021-10-25T07:32:53.822638Z",
     "shell.execute_reply.started": "2021-10-25T07:32:53.818387Z"
    }
   },
   "outputs": [
    {
     "data": {
      "text/plain": [
       "[1, 1]"
      ]
     },
     "execution_count": 68,
     "metadata": {},
     "output_type": "execute_result"
    }
   ],
   "source": [
    "operation = [\"I 2\",\"I 4\",\"D -1\", \"I 1\", \"D 1\"]\n",
    "solution(operation)"
   ]
  },
  {
   "cell_type": "markdown",
   "metadata": {},
   "source": [
    "- heapq 모듈 사용할때\n",
    "- heapq.nlargest() 쓰면 최대힙 따로 구성 안해도 최대값 뽑아낼 수 있네.\n",
    "- heapq.nlargest(len(heap), heap)[1:] 이러면 최대값을 제외하고 나머지를 정렬된 상태로 얻을 수 있다? \n",
    "- O(NlogN)인데? 에라이"
   ]
  },
  {
   "cell_type": "code",
   "execution_count": null,
   "metadata": {},
   "outputs": [],
   "source": []
  }
 ],
 "metadata": {
  "kernelspec": {
   "display_name": "Python 3",
   "language": "python",
   "name": "python3"
  },
  "language_info": {
   "codemirror_mode": {
    "name": "ipython",
    "version": 3
   },
   "file_extension": ".py",
   "mimetype": "text/x-python",
   "name": "python",
   "nbconvert_exporter": "python",
   "pygments_lexer": "ipython3",
   "version": "3.7.8"
  }
 },
 "nbformat": 4,
 "nbformat_minor": 4
}
