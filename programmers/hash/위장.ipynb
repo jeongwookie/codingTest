{
 "cells": [
  {
   "cell_type": "markdown",
   "metadata": {},
   "source": [
    "### 처음 나의 풀이\n",
    "- 제한 사항을 보니 의상 수가 30개 이하이고, 문자열의 길이가 20 이하임 -> 효율성을 크게 고려할 필요가 없는 문제인듯?\n",
    "- 딱 봐도 hash 사용해야 할거처럼 생김\n",
    "- 최소 1개 이상의 의상을 입어야함. answer의 최소값이 1임\n",
    "\n",
    "\n",
    "막히는 부분 : dict으로 input을 호기롭게 구성했는데, 그다음에 조합의 갯수를 구하는 부분에서 막힘;;;; 코드로 어떻게 옮기는지 모르겠음\n",
    "아 ㅅㅂ 이거는 내가 뇌정지가 와서.. 경우의 수 자체를 못구한듯?\n",
    "\n",
    "동시에 일어나는 일이기 때문에 곱하는 거고.. 각 카테고리별로 (카테고리 내 원소 수 + 1 (안입는 경우)) * (..) - 1 (하나도 안입는 경우) 를 빼주면 됨."
   ]
  },
  {
   "cell_type": "code",
   "execution_count": 22,
   "metadata": {
    "execution": {
     "iopub.execute_input": "2021-10-06T08:52:54.350093Z",
     "iopub.status.busy": "2021-10-06T08:52:54.349812Z",
     "iopub.status.idle": "2021-10-06T08:52:54.358009Z",
     "shell.execute_reply": "2021-10-06T08:52:54.355610Z",
     "shell.execute_reply.started": "2021-10-06T08:52:54.350063Z"
    }
   },
   "outputs": [],
   "source": [
    "def solution(clothes):\n",
    "    answer = 1\n",
    "    hash_dic = {}\n",
    "    \n",
    "    # key가 cloth category인 hash 만들기 \n",
    "    for cloth in clothes:\n",
    "        category = cloth[1]\n",
    "        \n",
    "        if hash_dic.get(category):\n",
    "            hash_dic[category] += 1 \n",
    "        else:\n",
    "            hash_dic[category] = 1\n",
    "    \n",
    "    #print(hash_dic)\n",
    "    \n",
    "    # 경우의 수 계산하기\n",
    "    ## (각각 입는 경우의 수 + 안입는 경우) 를 하나로 생각하고 곱해준 후 , 마지막에 하나도 안입는 경우의 수만 빼주면 됨.\n",
    "    ## 예시의 경우 (2+1) * (1+1) * (1+1) -1\n",
    "    \n",
    "    for value in hash_dic.values():\n",
    "        answer = answer * (value + 1)\n",
    "    \n",
    "    return answer-1"
   ]
  },
  {
   "cell_type": "code",
   "execution_count": 23,
   "metadata": {
    "execution": {
     "iopub.execute_input": "2021-10-06T08:52:54.492993Z",
     "iopub.status.busy": "2021-10-06T08:52:54.492677Z",
     "iopub.status.idle": "2021-10-06T08:52:54.499250Z",
     "shell.execute_reply": "2021-10-06T08:52:54.498472Z",
     "shell.execute_reply.started": "2021-10-06T08:52:54.492958Z"
    }
   },
   "outputs": [
    {
     "data": {
      "text/plain": [
       "11"
      ]
     },
     "execution_count": 23,
     "metadata": {},
     "output_type": "execute_result"
    }
   ],
   "source": [
    "clothes = [\n",
    "    [\"yellowhat\", \"headgear\"], \n",
    "    [\"bluesunglasses\", \"eyewear\"], \n",
    "    [\"green_turban\", \"headgear\"], \n",
    "    [\"crowmask\", \"face\"]\n",
    "]\n",
    "\n",
    "solution(clothes)"
   ]
  },
  {
   "cell_type": "markdown",
   "metadata": {},
   "source": [
    "### 풀이\n",
    "- 결국 이 문제의 아이디어 핵심은 \"경우의 수\"를 구하는 방법의 문제임\n",
    "- 아무것도 안입는 경우를 None이라고 두고, 이를 경우에 포함시키는 사고를 할 수 있는가?\n",
    "- A라는 카테고리의 옷이 a1, a2 이렇게 두가지 있으므로 사실 경우의 수는 a1입거나 a2입거나 안입거나 (None) 이렇게 3가지임"
   ]
  },
  {
   "cell_type": "code",
   "execution_count": 26,
   "metadata": {
    "execution": {
     "iopub.execute_input": "2021-10-06T09:00:09.743170Z",
     "iopub.status.busy": "2021-10-06T09:00:09.742838Z",
     "iopub.status.idle": "2021-10-06T09:00:09.750286Z",
     "shell.execute_reply": "2021-10-06T09:00:09.749029Z",
     "shell.execute_reply.started": "2021-10-06T09:00:09.743143Z"
    }
   },
   "outputs": [],
   "source": [
    "def solution(clothes):\n",
    "    hash_dic = {} # 각 타입을 key로 하고, 해당 타입의 옷에 대한 모든 경우의 수 (안입는 케이스 포함)를 val로 하는 dic\n",
    "    \n",
    "    for cloth_name, cloth_type in clothes:\n",
    "        if cloth_type not in hash_dic: # hash_dic의 key값에 해당 타입이 없으면,\n",
    "            hash_dic[cloth_type] = 2 # 초기값 : 1 + 1 (해당 옷을 안 입는 경우)\n",
    "        \n",
    "        else:\n",
    "            hash_dic[cloth_type] += 1 # 이미 값이 존재하면, 1만 더헤주면 됨\n",
    "    \n",
    "    print(hash_dic)\n",
    "    ans = 1\n",
    "    for num in hash_dic.values():\n",
    "        ans *= num\n",
    "    \n",
    "    return ans - 1 # 모두 입지 않는 경우의 수 제외"
   ]
  },
  {
   "cell_type": "code",
   "execution_count": 27,
   "metadata": {
    "execution": {
     "iopub.execute_input": "2021-10-06T09:00:10.223158Z",
     "iopub.status.busy": "2021-10-06T09:00:10.222905Z",
     "iopub.status.idle": "2021-10-06T09:00:10.228880Z",
     "shell.execute_reply": "2021-10-06T09:00:10.228017Z",
     "shell.execute_reply.started": "2021-10-06T09:00:10.223129Z"
    }
   },
   "outputs": [
    {
     "name": "stdout",
     "output_type": "stream",
     "text": [
      "{'headgear': 3, 'eyewear': 2, 'face': 2}\n"
     ]
    },
    {
     "data": {
      "text/plain": [
       "11"
      ]
     },
     "execution_count": 27,
     "metadata": {},
     "output_type": "execute_result"
    }
   ],
   "source": [
    "clothes = [\n",
    "    [\"yellowhat\", \"headgear\"], \n",
    "    [\"bluesunglasses\", \"eyewear\"], \n",
    "    [\"green_turban\", \"headgear\"], \n",
    "    [\"crowmask\", \"face\"]\n",
    "]\n",
    "\n",
    "solution(clothes)"
   ]
  },
  {
   "cell_type": "markdown",
   "metadata": {},
   "source": [
    "### 모듈을 사용한 다른 풀이"
   ]
  },
  {
   "cell_type": "markdown",
   "metadata": {},
   "source": [
    "- python dictionary를 사용할때 많은 풀이에서 collections 모듈을 사용함\n",
    "- Counter : "
   ]
  },
  {
   "cell_type": "code",
   "execution_count": null,
   "metadata": {},
   "outputs": [],
   "source": [
    "def solution(clothes):\n",
    "    from collections import Counter\n",
    "    from functools import reduce\n",
    "    cnt = Counter([kind for name, kind in clothes])\n",
    "    answer = reduce(lambda x, y: x*(y+1), cnt.values(), 1) - 1\n",
    "    return answer"
   ]
  },
  {
   "cell_type": "code",
   "execution_count": 28,
   "metadata": {
    "execution": {
     "iopub.execute_input": "2021-10-06T09:02:45.902955Z",
     "iopub.status.busy": "2021-10-06T09:02:45.902714Z",
     "iopub.status.idle": "2021-10-06T09:02:45.910244Z",
     "shell.execute_reply": "2021-10-06T09:02:45.908405Z",
     "shell.execute_reply.started": "2021-10-06T09:02:45.902930Z"
    }
   },
   "outputs": [],
   "source": [
    "def solution(clothes):\n",
    "    from collections import Counter\n",
    "    cnt = Counter([category for name, category in clothes])\n",
    "    print(cnt)"
   ]
  },
  {
   "cell_type": "code",
   "execution_count": 29,
   "metadata": {
    "execution": {
     "iopub.execute_input": "2021-10-06T09:02:51.675664Z",
     "iopub.status.busy": "2021-10-06T09:02:51.675395Z",
     "iopub.status.idle": "2021-10-06T09:02:51.680266Z",
     "shell.execute_reply": "2021-10-06T09:02:51.679323Z",
     "shell.execute_reply.started": "2021-10-06T09:02:51.675634Z"
    }
   },
   "outputs": [
    {
     "name": "stdout",
     "output_type": "stream",
     "text": [
      "Counter({'headgear': 2, 'eyewear': 1, 'face': 1})\n"
     ]
    }
   ],
   "source": [
    "solution(clothes)"
   ]
  },
  {
   "cell_type": "code",
   "execution_count": null,
   "metadata": {},
   "outputs": [],
   "source": []
  }
 ],
 "metadata": {
  "kernelspec": {
   "display_name": "Python 3",
   "language": "python",
   "name": "python3"
  },
  "language_info": {
   "codemirror_mode": {
    "name": "ipython",
    "version": 3
   },
   "file_extension": ".py",
   "mimetype": "text/x-python",
   "name": "python",
   "nbconvert_exporter": "python",
   "pygments_lexer": "ipython3",
   "version": "3.7.8"
  }
 },
 "nbformat": 4,
 "nbformat_minor": 4
}
