{
 "cells": [
  {
   "cell_type": "code",
   "execution_count": 22,
   "metadata": {},
   "outputs": [],
   "source": [
    "def solution(participant, completion):\n",
    "    # 마라톤에 참여한 선수들의 이름이 담긴 배열\n",
    "    ## 완주한 선수들의 이름\n",
    "    ### 완주하지 못한 선수의 이름을 리턴하기!\n",
    "    \n",
    "    # 배열 크기가 100000개임\n",
    "    # 완주하지 못한 선수는 단 한명이네.\n",
    "    # 동명이인 있을 수 있음\n",
    "    # 참여자가 1명이고, 완료자가 0명인 케이스가 제일 작은 케이스임\n",
    "    \n",
    "    \n",
    "    def make_dict(_list):\n",
    "        _dict = {}\n",
    "        for name in _list:\n",
    "            if _dict.get(name):\n",
    "                _dict[name] += 1\n",
    "            else:\n",
    "                _dict[name] = 1\n",
    "        \n",
    "        return _dict\n",
    "\n",
    "    answer = ''\n",
    "    participant_dict = make_dict(participant) # 참여자에 대한 숫자 세서 dict\n",
    "    print(participant_dict)\n",
    "    \n",
    "    for name in completion:\n",
    "        if participant_dict.get(name): # 해당 값이 존재한다면?\n",
    "            participant_dict[name] -= 1 # 1을 빼줌\n",
    "            \n",
    "    for key, value in participant_dict.items():\n",
    "        if value != 0:\n",
    "            answer = key\n",
    "            break\n",
    "    \n",
    "    return answer"
   ]
  },
  {
   "cell_type": "code",
   "execution_count": 27,
   "metadata": {},
   "outputs": [],
   "source": [
    "participant = [\"mislav\"]\n",
    "completion = []"
   ]
  },
  {
   "cell_type": "code",
   "execution_count": 28,
   "metadata": {},
   "outputs": [
    {
     "name": "stdout",
     "output_type": "stream",
     "text": [
      "{'mislav': 1}\n"
     ]
    },
    {
     "data": {
      "text/plain": [
       "'mislav'"
      ]
     },
     "execution_count": 28,
     "metadata": {},
     "output_type": "execute_result"
    }
   ],
   "source": [
    "solution(participant, completion)"
   ]
  },
  {
   "cell_type": "code",
   "execution_count": 31,
   "metadata": {},
   "outputs": [],
   "source": [
    "# 젤 간단한 풀이 보니까..\n",
    "## Collection 패키지를 썼더라\n",
    "\n",
    "import collections\n",
    "\n",
    "def solution(participant, completion):\n",
    "    answer = collections.Counter(participant) - collections.Counter(completion) # counter 끼리 뺄수 있네..?\n",
    "    return list(answer.keys())[0]\n"
   ]
  },
  {
   "cell_type": "code",
   "execution_count": 29,
   "metadata": {},
   "outputs": [],
   "source": [
    "participant = [\"leo\", \"kiki\", \"eden\"]\n",
    "completion = [\"eden\", \"kiki\"]"
   ]
  },
  {
   "cell_type": "code",
   "execution_count": 33,
   "metadata": {},
   "outputs": [
    {
     "data": {
      "text/plain": [
       "Counter({'leo': 1})"
      ]
     },
     "execution_count": 33,
     "metadata": {},
     "output_type": "execute_result"
    }
   ],
   "source": [
    "collections.Counter(participant) - collections.Counter(completion)"
   ]
  },
  {
   "cell_type": "code",
   "execution_count": 36,
   "metadata": {},
   "outputs": [
    {
     "data": {
      "text/plain": [
       "['leo', 'kiki', 'eden']"
      ]
     },
     "execution_count": 36,
     "metadata": {},
     "output_type": "execute_result"
    }
   ],
   "source": [
    "list(collections.Counter(participant).keys())"
   ]
  },
  {
   "cell_type": "code",
   "execution_count": null,
   "metadata": {},
   "outputs": [],
   "source": []
  }
 ],
 "metadata": {
  "kernelspec": {
   "display_name": "Python 3",
   "language": "python",
   "name": "python3"
  },
  "language_info": {
   "codemirror_mode": {
    "name": "ipython",
    "version": 3
   },
   "file_extension": ".py",
   "mimetype": "text/x-python",
   "name": "python",
   "nbconvert_exporter": "python",
   "pygments_lexer": "ipython3",
   "version": "3.7.8"
  }
 },
 "nbformat": 4,
 "nbformat_minor": 4
}
