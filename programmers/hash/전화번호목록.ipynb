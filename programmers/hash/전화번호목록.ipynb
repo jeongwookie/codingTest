{
 "cells": [
  {
   "cell_type": "code",
   "execution_count": 49,
   "metadata": {},
   "outputs": [],
   "source": [
    "def solution(phone_book):\n",
    "    \n",
    "    # String length에 따라서 소팅을 먼저 해야할거같음\n",
    "    # 그리고 앞글자와 비교할수밖에 없는데?\n",
    "    # 인풋 리스트의 크기가 1000000이라서 그냥 포문 돌려버리면 효율성이 안됨.. -> 이럴때 대처법은?\n",
    "    # sorted를 먼저 함으로써 이득을 봐야하는 상황. 아 이렇게 되면 뇌정지가 옴. 어떻게 이걸 효율화 해야하지? 포문을 하나 없애고싶은디..\n",
    "    # 해쉬 문제인데 해쉬가 도대체 어디에 들어가야하는지 모르겠음\n",
    "    \n",
    "    answer = True\n",
    "    sorted_list = sorted(phone_book, key=lambda x: len(x))\n",
    "    \n",
    "    \n",
    "    for idx,i in enumerate(sorted_list):\n",
    "        for j in sorted_list[idx+1:]:\n",
    "            # compare\n",
    "            item_1 = i\n",
    "            item_2 = j[:len(item_1)]\n",
    "            if item_1 == item_2: # 접두사이면,\n",
    "                answer = False\n",
    "                break\n",
    "    \n",
    "    return answer"
   ]
  },
  {
   "cell_type": "code",
   "execution_count": 51,
   "metadata": {},
   "outputs": [],
   "source": [
    "phone_book = [\"119\", \"97674223\", \"1195524421\"]"
   ]
  },
  {
   "cell_type": "code",
   "execution_count": 54,
   "metadata": {},
   "outputs": [
    {
     "data": {
      "text/plain": [
       "True"
      ]
     },
     "execution_count": 54,
     "metadata": {},
     "output_type": "execute_result"
    }
   ],
   "source": [
    "solution(phone_book)"
   ]
  },
  {
   "cell_type": "code",
   "execution_count": 58,
   "metadata": {},
   "outputs": [],
   "source": [
    "def solution(phone_book):\n",
    "    \n",
    "    \"\"\"\n",
    "    hash에 저장해서 나온 풀이. 남의 풀이를 참고했음.\n",
    "    애초에 이렇게 dict를 사용하는게 익숙치가 않고 (지금까지 key:val의 관계를 val이 먼가 가공된 데이터 인 경우만 생각했기 때문. length나 freq나)\n",
    "    위와 비교해서 어디서 효율성이 증대됐는지 복잡도가 어케되는지 계산을 못하게씀 ㅠㅠ;;\n",
    "    아 시바 이것도 테스트 3,4는 통과 못해부네 뭐냐;;;\n",
    "    \"\"\"\n",
    "    \n",
    "    answer = True\n",
    "    sorted_list = sorted(phone_book, key=lambda x: len(x))\n",
    "    \n",
    "    for idx, i in enumerate(sorted_list):\n",
    "        _dict = {}\n",
    "        \n",
    "        for j in sorted_list[idx+1:]:\n",
    "            value = i \n",
    "            key = j[:len(i)] # j를 i의 크기만큼 자른 값\n",
    "            _dict[key] = value # hash에 저장\n",
    "        \n",
    "        print(_dict)\n",
    "        if _dict.get(i):\n",
    "            answer = False\n",
    "            break\n",
    "\n",
    "    return answer"
   ]
  },
  {
   "cell_type": "code",
   "execution_count": 59,
   "metadata": {},
   "outputs": [],
   "source": [
    "phone_book = [\"123\", \"456\", \"789\"]"
   ]
  },
  {
   "cell_type": "code",
   "execution_count": 60,
   "metadata": {},
   "outputs": [
    {
     "name": "stdout",
     "output_type": "stream",
     "text": [
      "{'456': '123', '789': '123'}\n",
      "{'789': '456'}\n",
      "{}\n"
     ]
    },
    {
     "data": {
      "text/plain": [
       "True"
      ]
     },
     "execution_count": 60,
     "metadata": {},
     "output_type": "execute_result"
    }
   ],
   "source": [
    "solution(phone_book)"
   ]
  },
  {
   "cell_type": "code",
   "execution_count": null,
   "metadata": {},
   "outputs": [],
   "source": []
  }
 ],
 "metadata": {
  "kernelspec": {
   "display_name": "Python 3",
   "language": "python",
   "name": "python3"
  },
  "language_info": {
   "codemirror_mode": {
    "name": "ipython",
    "version": 3
   },
   "file_extension": ".py",
   "mimetype": "text/x-python",
   "name": "python",
   "nbconvert_exporter": "python",
   "pygments_lexer": "ipython3",
   "version": "3.7.8"
  }
 },
 "nbformat": 4,
 "nbformat_minor": 4
}
