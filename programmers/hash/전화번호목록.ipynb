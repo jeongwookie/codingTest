{
 "cells": [
  {
   "cell_type": "code",
   "execution_count": 1,
   "metadata": {
    "execution": {
     "iopub.execute_input": "2021-10-06T07:08:13.398731Z",
     "iopub.status.busy": "2021-10-06T07:08:13.398360Z",
     "iopub.status.idle": "2021-10-06T07:08:13.404731Z",
     "shell.execute_reply": "2021-10-06T07:08:13.403920Z",
     "shell.execute_reply.started": "2021-10-06T07:08:13.398644Z"
    }
   },
   "outputs": [],
   "source": [
    "def solution(phone_book):\n",
    "    \n",
    "    # String length에 따라서 소팅을 먼저 해야할거같음\n",
    "    # 그리고 앞글자와 비교할수밖에 없는데?\n",
    "    # 인풋 리스트의 크기가 1000000이라서 그냥 포문 돌려버리면 효율성이 안됨.. -> 이럴때 대처법은?\n",
    "    # sorted를 먼저 함으로써 이득을 봐야하는 상황. 아 이렇게 되면 뇌정지가 옴. 어떻게 이걸 효율화 해야하지? 포문을 하나 없애고싶은디..\n",
    "    # 해쉬 문제인데 해쉬가 도대체 어디에 들어가야하는지 모르겠음\n",
    "    \n",
    "    answer = True\n",
    "    sorted_list = sorted(phone_book, key=lambda x: len(x))\n",
    "    \n",
    "    \n",
    "    for idx,i in enumerate(sorted_list):\n",
    "        for j in sorted_list[idx+1:]:\n",
    "            # compare\n",
    "            item_1 = i\n",
    "            item_2 = j[:len(item_1)]\n",
    "            if item_1 == item_2: # 접두사이면,\n",
    "                answer = False\n",
    "                break\n",
    "    \n",
    "    return answer"
   ]
  },
  {
   "cell_type": "code",
   "execution_count": 2,
   "metadata": {
    "execution": {
     "iopub.execute_input": "2021-10-06T07:08:13.630037Z",
     "iopub.status.busy": "2021-10-06T07:08:13.629702Z",
     "iopub.status.idle": "2021-10-06T07:08:13.634672Z",
     "shell.execute_reply": "2021-10-06T07:08:13.633841Z",
     "shell.execute_reply.started": "2021-10-06T07:08:13.630002Z"
    }
   },
   "outputs": [],
   "source": [
    "phone_book = [\"119\", \"97674223\", \"1195524421\"]"
   ]
  },
  {
   "cell_type": "code",
   "execution_count": 3,
   "metadata": {
    "execution": {
     "iopub.execute_input": "2021-10-06T07:08:16.449963Z",
     "iopub.status.busy": "2021-10-06T07:08:16.449670Z",
     "iopub.status.idle": "2021-10-06T07:08:16.461392Z",
     "shell.execute_reply": "2021-10-06T07:08:16.460664Z",
     "shell.execute_reply.started": "2021-10-06T07:08:16.449932Z"
    }
   },
   "outputs": [
    {
     "data": {
      "text/plain": [
       "False"
      ]
     },
     "execution_count": 3,
     "metadata": {},
     "output_type": "execute_result"
    }
   ],
   "source": [
    "solution(phone_book)"
   ]
  },
  {
   "cell_type": "code",
   "execution_count": 4,
   "metadata": {
    "execution": {
     "iopub.execute_input": "2021-10-06T07:08:25.542201Z",
     "iopub.status.busy": "2021-10-06T07:08:25.541835Z",
     "iopub.status.idle": "2021-10-06T07:08:25.548010Z",
     "shell.execute_reply": "2021-10-06T07:08:25.547278Z",
     "shell.execute_reply.started": "2021-10-06T07:08:25.542156Z"
    }
   },
   "outputs": [],
   "source": [
    "def solution(phone_book):\n",
    "    \n",
    "    \"\"\"\n",
    "    hash에 저장해서 나온 풀이. 남의 풀이를 참고했음.\n",
    "    애초에 이렇게 dict를 사용하는게 익숙치가 않고 (지금까지 key:val의 관계를 val이 먼가 가공된 데이터 인 경우만 생각했기 때문. length나 freq나)\n",
    "    위와 비교해서 어디서 효율성이 증대됐는지 복잡도가 어케되는지 계산을 못하게씀 ㅠㅠ;;\n",
    "    아 시바 이것도 테스트 3,4는 통과 못해부네 뭐냐;;;\n",
    "    \"\"\"\n",
    "    \n",
    "    answer = True\n",
    "    sorted_list = sorted(phone_book, key=lambda x: len(x))\n",
    "    \n",
    "    for idx, i in enumerate(sorted_list):\n",
    "        _dict = {}\n",
    "        \n",
    "        for j in sorted_list[idx+1:]:\n",
    "            value = i \n",
    "            key = j[:len(i)] # j를 i의 크기만큼 자른 값\n",
    "            _dict[key] = value # hash에 저장\n",
    "        \n",
    "        print(_dict)\n",
    "        if _dict.get(i):\n",
    "            answer = False\n",
    "            break\n",
    "\n",
    "    return answer"
   ]
  },
  {
   "cell_type": "code",
   "execution_count": 5,
   "metadata": {
    "execution": {
     "iopub.execute_input": "2021-10-06T07:08:25.702057Z",
     "iopub.status.busy": "2021-10-06T07:08:25.701791Z",
     "iopub.status.idle": "2021-10-06T07:08:25.705583Z",
     "shell.execute_reply": "2021-10-06T07:08:25.704721Z",
     "shell.execute_reply.started": "2021-10-06T07:08:25.702027Z"
    }
   },
   "outputs": [],
   "source": [
    "phone_book = [\"123\", \"456\", \"789\"]"
   ]
  },
  {
   "cell_type": "code",
   "execution_count": 6,
   "metadata": {
    "execution": {
     "iopub.execute_input": "2021-10-06T07:08:26.434648Z",
     "iopub.status.busy": "2021-10-06T07:08:26.434334Z",
     "iopub.status.idle": "2021-10-06T07:08:26.439918Z",
     "shell.execute_reply": "2021-10-06T07:08:26.438992Z",
     "shell.execute_reply.started": "2021-10-06T07:08:26.434615Z"
    }
   },
   "outputs": [
    {
     "name": "stdout",
     "output_type": "stream",
     "text": [
      "{'456': '123', '789': '123'}\n",
      "{'789': '456'}\n",
      "{}\n"
     ]
    },
    {
     "data": {
      "text/plain": [
       "True"
      ]
     },
     "execution_count": 6,
     "metadata": {},
     "output_type": "execute_result"
    }
   ],
   "source": [
    "solution(phone_book)"
   ]
  },
  {
   "cell_type": "markdown",
   "metadata": {},
   "source": [
    "### 먼저 sort 후 string의 startswith를 이용한 풀이"
   ]
  },
  {
   "attachments": {
    "45cc1950-34f2-4a55-a783-1a8eeef1317a.png": {
     "image/png": "[encoded data removed]"
    }
   },
   "cell_type": "markdown",
   "metadata": {},
   "source": [
    "![image.png](attachment:45cc1950-34f2-4a55-a783-1a8eeef1317a.png)"
   ]
  },
  {
   "cell_type": "code",
   "execution_count": 5,
   "metadata": {},
   "outputs": [],
   "source": [
    "# best code 1\n",
    "def solution(phone_book):\n",
    "    phone_book = sorted(phone_book) # 문자 길이 상관없이 문자열을 정렬함. -> 이러면 같은 접두사끼리 자동으로 모이게 됨.\n",
    "    for p1, p2 in zip(phone_book, phone_book[1:]): # list에서 전화번호 비교 시 바로 다음 번호와 비교\n",
    "        if p2.startswith(p1):\n",
    "            return False\n",
    "    return True"
   ]
  },
  {
   "cell_type": "code",
   "execution_count": 7,
   "metadata": {
    "execution": {
     "iopub.execute_input": "2021-10-06T07:08:34.974839Z",
     "iopub.status.busy": "2021-10-06T07:08:34.974477Z",
     "iopub.status.idle": "2021-10-06T07:08:34.982013Z",
     "shell.execute_reply": "2021-10-06T07:08:34.980479Z",
     "shell.execute_reply.started": "2021-10-06T07:08:34.974804Z"
    }
   },
   "outputs": [],
   "source": [
    "# best code 1-1\n",
    "\"\"\"\n",
    "sorted : O(nlogn)\n",
    "\"\"\"\n",
    "def solution(phone_book):\n",
    "    phone_book = sorted(phone_book) # 문자 길이 상관없이 문자열을 정렬함. -> 이러면 같은 접두사끼리 자동으로 모이게 됨.\n",
    "    for idx, _ in enumerate(phone_book):\n",
    "        if idx+1 == len(phone_book): \n",
    "            break\n",
    "            \n",
    "        if phone_book[idx+1].startswith(phone_book[idx]):\n",
    "            return False\n",
    "    \n",
    "    return True"
   ]
  },
  {
   "cell_type": "code",
   "execution_count": 8,
   "metadata": {
    "execution": {
     "iopub.execute_input": "2021-10-06T07:08:36.663014Z",
     "iopub.status.busy": "2021-10-06T07:08:36.662730Z",
     "iopub.status.idle": "2021-10-06T07:08:36.668173Z",
     "shell.execute_reply": "2021-10-06T07:08:36.667374Z",
     "shell.execute_reply.started": "2021-10-06T07:08:36.662984Z"
    }
   },
   "outputs": [
    {
     "data": {
      "text/plain": [
       "False"
      ]
     },
     "execution_count": 8,
     "metadata": {},
     "output_type": "execute_result"
    }
   ],
   "source": [
    "phone_book = [\"119\", \"18\", \"97674223\", \"1195524421\"]\n",
    "solution(phone_book)"
   ]
  },
  {
   "cell_type": "markdown",
   "metadata": {},
   "source": [
    "### Hash를 이용한 풀이"
   ]
  },
  {
   "attachments": {
    "d029a06b-4370-4f73-be57-71fc086aba4d.png": {
     "image/png": "[encoded data removed]"
    }
   },
   "cell_type": "markdown",
   "metadata": {},
   "source": [
    "![image.png](attachment:d029a06b-4370-4f73-be57-71fc086aba4d.png)"
   ]
  },
  {
   "cell_type": "code",
   "execution_count": 9,
   "metadata": {
    "execution": {
     "iopub.execute_input": "2021-10-06T07:08:46.266685Z",
     "iopub.status.busy": "2021-10-06T07:08:46.266426Z",
     "iopub.status.idle": "2021-10-06T07:08:46.271745Z",
     "shell.execute_reply": "2021-10-06T07:08:46.270616Z",
     "shell.execute_reply.started": "2021-10-06T07:08:46.266656Z"
    }
   },
   "outputs": [],
   "source": [
    "# best code 2 : hash 를 사용한 풀이\n",
    "def solution(phone_book):\n",
    "    answer = True\n",
    "    hash_map = {}\n",
    "    \n",
    "    # 초기화\n",
    "    for phone_num in phone_book:\n",
    "        hash_map[phone_num] = 1\n",
    "    \n",
    "    for phone_num in phone_book:\n",
    "        temp = \"\"\n",
    "        for num in phone_num: # phone_num = 119\n",
    "            temp += num # temp = 1, num = 1 \n",
    "            if temp in hash_map and temp != phone_num:\n",
    "                answer = False\n",
    "    \n",
    "    return answer\n"
   ]
  },
  {
   "cell_type": "code",
   "execution_count": 13,
   "metadata": {},
   "outputs": [],
   "source": [
    "phone_book = [\"119\", \"18\", \"97674223\", \"1195524421\"]"
   ]
  },
  {
   "cell_type": "code",
   "execution_count": 10,
   "metadata": {
    "execution": {
     "iopub.execute_input": "2021-10-06T07:08:48.379744Z",
     "iopub.status.busy": "2021-10-06T07:08:48.379351Z",
     "iopub.status.idle": "2021-10-06T07:08:48.386842Z",
     "shell.execute_reply": "2021-10-06T07:08:48.385581Z",
     "shell.execute_reply.started": "2021-10-06T07:08:48.379706Z"
    }
   },
   "outputs": [
    {
     "data": {
      "text/plain": [
       "False"
      ]
     },
     "execution_count": 10,
     "metadata": {},
     "output_type": "execute_result"
    }
   ],
   "source": [
    "solution(phone_book)"
   ]
  },
  {
   "cell_type": "markdown",
   "metadata": {},
   "source": [
    "### 깨달음의 코드"
   ]
  },
  {
   "attachments": {
    "4a45b95e-0f60-4797-9658-4d83e230a2a4.png": {
     "image/png": "[encoded data removed]"
    }
   },
   "cell_type": "markdown",
   "metadata": {},
   "source": [
    "![image.png](attachment:4a45b95e-0f60-4797-9658-4d83e230a2a4.png)"
   ]
  },
  {
   "cell_type": "code",
   "execution_count": 20,
   "metadata": {
    "execution": {
     "iopub.execute_input": "2021-10-06T07:44:57.938013Z",
     "iopub.status.busy": "2021-10-06T07:44:57.937748Z",
     "iopub.status.idle": "2021-10-06T07:44:57.945272Z",
     "shell.execute_reply": "2021-10-06T07:44:57.944067Z",
     "shell.execute_reply.started": "2021-10-06T07:44:57.937986Z"
    }
   },
   "outputs": [],
   "source": [
    "# best_code 2를 최적화 해보자.\n",
    "\"\"\"\n",
    "파이썬에서 각 자료구조마다 in을 사용할때 시간 복잡도가 달라진다.\n",
    "list, tuple : O(n) -  하나하나 순회하기 때문\n",
    "set, dict : Avg O(1), Worst O(n) - 내부적으로 hash를 통해 저장하므로 접근 시간은 O(1)이다. \n",
    "그래서 위 코드에서 list에다가 in을 바로 할수도 있었는데 빈 dict을 만들었을 것이다..\n",
    "\n",
    "<아이디어>\n",
    "temp라는 빈 스트링에 idx를 1씩 증가시켜가면서 string을 붙인 후, dict의 key와 비교하고 있는데,\n",
    "이를 미리 지정된 크기만큼만 잘라서 비교하면 전체를 loop 돌릴 필요가 없어서 빨라질 것이다!\n",
    "\"\"\"\n",
    "\n",
    "def solution(phone_book):\n",
    "    \n",
    "    # dict 초기화\n",
    "    _dict = {}\n",
    "    for phone_num in phone_book:\n",
    "        _dict[phone_num] = len(phone_num)\n",
    "    \n",
    "    # length 저장\n",
    "    slice_length_list = set([i for i in _dict.values()])\n",
    "    \n",
    "    # 비교\n",
    "    ## _dict안의 value들은 len을 저장하고 있고, 이들이 temp 길이의 기준이 됨.\n",
    "    ## [2,3,5,6,6] -> 중복되는 숫자가 존재함. set으로 처리함\n",
    "    \n",
    "    for phone_num in phone_book:\n",
    "        for slice_length in slice_length_list: # [8, 10, 2, 3]\n",
    "            # slice가 phone_num의 length를 넘어서거나 같으면 의미가 없음.\n",
    "            if slice_length < len(phone_num):\n",
    "                if phone_num[:slice_length] in _dict: # 자른 숫자가 _dict에 저장되어 있으면 False 리턴\n",
    "                    return False\n",
    "                \n",
    "    return True        "
   ]
  },
  {
   "cell_type": "code",
   "execution_count": 21,
   "metadata": {
    "execution": {
     "iopub.execute_input": "2021-10-06T07:44:58.089899Z",
     "iopub.status.busy": "2021-10-06T07:44:58.089666Z",
     "iopub.status.idle": "2021-10-06T07:44:58.093238Z",
     "shell.execute_reply": "2021-10-06T07:44:58.092350Z",
     "shell.execute_reply.started": "2021-10-06T07:44:58.089874Z"
    }
   },
   "outputs": [],
   "source": [
    "phone_book = [\"119\", \"18\", \"97674223\", \"1195524421\"]"
   ]
  },
  {
   "cell_type": "code",
   "execution_count": 22,
   "metadata": {
    "execution": {
     "iopub.execute_input": "2021-10-06T07:44:58.263765Z",
     "iopub.status.busy": "2021-10-06T07:44:58.263544Z",
     "iopub.status.idle": "2021-10-06T07:44:58.268131Z",
     "shell.execute_reply": "2021-10-06T07:44:58.267334Z",
     "shell.execute_reply.started": "2021-10-06T07:44:58.263741Z"
    }
   },
   "outputs": [
    {
     "data": {
      "text/plain": [
       "False"
      ]
     },
     "execution_count": 22,
     "metadata": {},
     "output_type": "execute_result"
    }
   ],
   "source": [
    "solution(phone_book)"
   ]
  },
  {
   "cell_type": "code",
   "execution_count": null,
   "metadata": {},
   "outputs": [],
   "source": []
  }
 ],
 "metadata": {
  "kernelspec": {
   "display_name": "Python 3",
   "language": "python",
   "name": "python3"
  },
  "language_info": {
   "codemirror_mode": {
    "name": "ipython",
    "version": 3
   },
   "file_extension": ".py",
   "mimetype": "text/x-python",
   "name": "python",
   "nbconvert_exporter": "python",
   "pygments_lexer": "ipython3",
   "version": "3.7.8"
  }
 },
 "nbformat": 4,
 "nbformat_minor": 4
}
