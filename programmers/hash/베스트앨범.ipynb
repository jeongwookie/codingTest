{
 "cells": [
  {
   "cell_type": "markdown",
   "metadata": {},
   "source": [
    "## 처음 문제 읽고 시작한 내 풀이"
   ]
  },
  {
   "cell_type": "code",
   "execution_count": 10,
   "metadata": {
    "execution": {
     "iopub.execute_input": "2021-10-07T07:18:02.620272Z",
     "iopub.status.busy": "2021-10-07T07:18:02.619998Z",
     "iopub.status.idle": "2021-10-07T07:18:02.633756Z",
     "shell.execute_reply": "2021-10-07T07:18:02.632645Z",
     "shell.execute_reply.started": "2021-10-07T07:18:02.620244Z"
    }
   },
   "outputs": [],
   "source": [
    "def solution(genres, plays):\n",
    "    from collections import Counter\n",
    "    \n",
    "    \"\"\"\n",
    "    장르 별로 가장 많이 재생된 노래를 두개씩 모아야함.\n",
    "    \"장르\" 가 Key 값이 될 수 있겠지? \n",
    "    \"노래\"를 모아야 하기 때문에, 이름 값을 그대로 유지해야하고, value는 재생 횟수가 될 가능성이 큼\n",
    "    노래 수록 기준에는 겹치는 경우의 수에 대해서 처리 방법을 안내하고 있음\n",
    "    1. 속한 노래가 많이 재생된 장르를 골라내야함. -> key가 장르고 val가 해당 장르에 속한 노래들의 총 재생 횟수?\n",
    "    2. 장르 내에서 많이 재생된 노래를 먼저 수록 -> 장르 내에서 내림차순 정렬을 통해서 위에서 골라내야함.\n",
    "    3. 장르 내에서 숫자가 동일하면 고유 번호가 낮은 순으로 수록함\n",
    "    \n",
    "    장르와 플레이 리스트는 크기가 10000이므로 효율성을 보는 문제는 아닌듯.\n",
    "    \"\"\"\n",
    "    \n",
    "    # 장르별 재생 횟수를 골라내야함\n",
    "    ## 그래서 장르별로 순서를 정하고, 그 이후 내부 서순이 들어감\n",
    "    \n",
    "    \n",
    "    #1. plays 기준으로 장르 정렬하기\n",
    "    ## 인풋이 들어가면 아웃풋이 재생 높은 순서로 장르 이름이 리스트에 담아 나오면 좋겠음\n",
    "    def sort_genres_by_plays(genres, plays):\n",
    "        \n",
    "        sorted_genres_list = []\n",
    "        _dict = {} \n",
    "\n",
    "        for num_of_music in range(len(plays)):\n",
    "            genre = genres[num_of_music]\n",
    "            play = plays[num_of_music]\n",
    "\n",
    "            if _dict.get(genre):\n",
    "                _dict[genre] += play\n",
    "            else:\n",
    "                _dict[genre] = play\n",
    "        \n",
    "        print(_dict)\n",
    "        sorted_genres_list = Counter(_dict).most_common() # dict 빈도수 정렬\n",
    "        sorted_genres_list = [name for name, _ in sorted_genres_list]\n",
    "        \n",
    "        return sorted_genres_list\n",
    "    \n",
    "    \n",
    "    \n",
    "    sorted_genres = sort_genres_by_plays(genres, plays) # ['pop', 'classic']\n",
    "    print(sorted_genres)\n",
    "    \n",
    "    #2. 정렬된 장르를 가진 노래를 play 기준으로 top 2 뽑기\n",
    "    ## 장르가 100개 미만이기때문에, sorted_genres의 최대 크기는 100밖에 안됨. for문 두개 돌려도 됨.\n",
    "    ## 인풋을 장르로 받으면 해당 장르 안에서 최대 두개 뽑아내는 함수를 만들까?\n",
    "    \n",
    "    def pick_top_plays_music_in_genre(target_genre, genres, plays):\n",
    "        top_musics = []\n",
    "        _dict = {}\n",
    "        \n",
    "        for num_of_music in range(len(plays)):\n",
    "            genre = genres[num_of_music]\n",
    "            play = plays[num_of_music]\n",
    "            \n",
    "            if (genre == target_genre):\n",
    "                _dict[num_of_music] = play\n",
    "        \n",
    "        print(f\"TARGET : {target_genre}\")\n",
    "        print(_dict)\n",
    "        \n",
    "        sorted_plays_list = Counter(_dict).most_common() # dict 빈도수 정렬\n",
    "        sorted_plays_list = [name for name, _ in sorted_plays_list]\n",
    "        \n",
    "        # 마지막으로 최대 2개까지만 뽑아내야함.\n",
    "        if len(sorted_plays_list) >= 2:\n",
    "            top_musics = sorted_plays_list[:2]\n",
    "        else:\n",
    "            top_musics = sorted_plays_list # 0개인 경우는 없음.\n",
    "        \n",
    "        print(f\"TOP MUSICS : {top_musics}\")\n",
    "        return top_musics\n",
    "        \n",
    "        \n",
    "    \n",
    "    answer = []\n",
    "    for target_genre in sorted_genres:\n",
    "        top_musics = pick_top_plays_music_in_genre(target_genre, genres, plays) # list : [0,1]\n",
    "        answer += top_musics # concat list\n",
    "    \n",
    "    return answer"
   ]
  },
  {
   "cell_type": "code",
   "execution_count": 12,
   "metadata": {
    "execution": {
     "iopub.execute_input": "2021-10-07T07:18:48.107668Z",
     "iopub.status.busy": "2021-10-07T07:18:48.107453Z",
     "iopub.status.idle": "2021-10-07T07:18:48.113225Z",
     "shell.execute_reply": "2021-10-07T07:18:48.112447Z",
     "shell.execute_reply.started": "2021-10-07T07:18:48.107645Z"
    }
   },
   "outputs": [
    {
     "name": "stdout",
     "output_type": "stream",
     "text": [
      "{'classic': 1450, 'pop': 3100}\n",
      "['pop', 'classic']\n",
      "TARGET : pop\n",
      "{1: 600, 4: 2500}\n",
      "TOP MUSICS : [4, 1]\n",
      "TARGET : classic\n",
      "{0: 500, 2: 150, 3: 800}\n",
      "TOP MUSICS : [3, 0]\n"
     ]
    },
    {
     "data": {
      "text/plain": [
       "[4, 1, 3, 0]"
      ]
     },
     "execution_count": 12,
     "metadata": {},
     "output_type": "execute_result"
    }
   ],
   "source": [
    "genres = [\"classic\", \"pop\", \"classic\", \"classic\", \"pop\"]\n",
    "plays = [500, 600, 150, 800, 2500]\n",
    "# return 4,1,3,0\n",
    "\n",
    "solution(genres, plays)"
   ]
  },
  {
   "cell_type": "markdown",
   "metadata": {},
   "source": [
    "### 제출본"
   ]
  },
  {
   "cell_type": "code",
   "execution_count": 15,
   "metadata": {
    "execution": {
     "iopub.execute_input": "2021-10-07T07:20:48.340037Z",
     "iopub.status.busy": "2021-10-07T07:20:48.339563Z",
     "iopub.status.idle": "2021-10-07T07:20:48.351038Z",
     "shell.execute_reply": "2021-10-07T07:20:48.349966Z",
     "shell.execute_reply.started": "2021-10-07T07:20:48.339994Z"
    }
   },
   "outputs": [],
   "source": [
    "def solution(genres, plays):\n",
    "    from collections import Counter\n",
    "\n",
    "    def sort_genres_by_plays(genres, plays):\n",
    "        sorted_genres_list = []\n",
    "        _dict = {} \n",
    "        \n",
    "        for num_of_music in range(len(plays)):\n",
    "            genre = genres[num_of_music]\n",
    "            play = plays[num_of_music]\n",
    "\n",
    "            if _dict.get(genre):\n",
    "                _dict[genre] += play\n",
    "            else:\n",
    "                _dict[genre] = play\n",
    "\n",
    "        sorted_genres_list = Counter(_dict).most_common() # dict 빈도수 정렬\n",
    "        sorted_genres_list = [name for name, _ in sorted_genres_list]\n",
    "        \n",
    "        return sorted_genres_list\n",
    "    \n",
    "    def pick_top_plays_music_in_genre(target_genre, genres, plays):\n",
    "        top_musics = []\n",
    "        _dict = {}\n",
    "        \n",
    "        for num_of_music in range(len(plays)):\n",
    "            genre = genres[num_of_music]\n",
    "            play = plays[num_of_music]\n",
    "            \n",
    "            if (genre == target_genre):\n",
    "                _dict[num_of_music] = play\n",
    "        \n",
    "        sorted_plays_list = Counter(_dict).most_common() # dict 빈도수 정렬\n",
    "        sorted_plays_list = [name for name, _ in sorted_plays_list]\n",
    "        \n",
    "        # 마지막으로 최대 2개까지만 뽑아내야함.\n",
    "        if len(sorted_plays_list) >= 2:\n",
    "            top_musics = sorted_plays_list[:2]\n",
    "        else:\n",
    "            top_musics = sorted_plays_list # 0개인 경우는 없음.\n",
    "        \n",
    "        return top_musics\n",
    "        \n",
    "    #### ==== main ==== ####\n",
    "    answer = []\n",
    "    sorted_genres = sort_genres_by_plays(genres, plays) # ['pop', 'classic']\n",
    "    \n",
    "    for target_genre in sorted_genres:\n",
    "        top_musics = pick_top_plays_music_in_genre(target_genre, genres, plays) # list : [0,1]\n",
    "        answer += top_musics # concat list\n",
    "    \n",
    "    return answer"
   ]
  },
  {
   "cell_type": "code",
   "execution_count": 16,
   "metadata": {
    "execution": {
     "iopub.execute_input": "2021-10-07T07:20:48.421243Z",
     "iopub.status.busy": "2021-10-07T07:20:48.420986Z",
     "iopub.status.idle": "2021-10-07T07:20:48.427565Z",
     "shell.execute_reply": "2021-10-07T07:20:48.426769Z",
     "shell.execute_reply.started": "2021-10-07T07:20:48.421216Z"
    }
   },
   "outputs": [
    {
     "data": {
      "text/plain": [
       "[4, 1, 3, 0]"
      ]
     },
     "execution_count": 16,
     "metadata": {},
     "output_type": "execute_result"
    }
   ],
   "source": [
    "genres = [\"classic\", \"pop\", \"classic\", \"classic\", \"pop\"]\n",
    "plays = [500, 600, 150, 800, 2500]\n",
    "# return 4,1,3,0\n",
    "\n",
    "solution(genres, plays)"
   ]
  },
  {
   "cell_type": "markdown",
   "metadata": {},
   "source": [
    "### 제출하고 난 이후의 찝찝함\n",
    "- dict에 담은 후 value값으로 sorting 한 결과값을 뽑을 때 패키지를 사용했음.\n",
    "- pick_top_plays_music_in_genre 을 설계할 때, 해당 장르인지 아닌지 전부 순회하면서 체크했음. 만약에 장르 갯수가 백만개였으면 박살났음"
   ]
  },
  {
   "cell_type": "markdown",
   "metadata": {},
   "source": [
    "### 다른 풀이 1"
   ]
  },
  {
   "cell_type": "code",
   "execution_count": 23,
   "metadata": {
    "execution": {
     "iopub.execute_input": "2021-10-07T07:47:56.396981Z",
     "iopub.status.busy": "2021-10-07T07:47:56.396668Z",
     "iopub.status.idle": "2021-10-07T07:47:56.406296Z",
     "shell.execute_reply": "2021-10-07T07:47:56.404987Z",
     "shell.execute_reply.started": "2021-10-07T07:47:56.396949Z"
    }
   },
   "outputs": [],
   "source": [
    "def solution(genres, plays):\n",
    "    answer = []\n",
    "    dic1 = {} # genre이름을 key로 가지고, value를 (음악이름, play횟수) 이렇게 기록한 dict\n",
    "    dic2 = {} # genre이름을 key로 가지고, value를 해당 장르의 play횟수 총합 이렇게 기록한 dict\n",
    "    \n",
    "    # 필요한 정보를 담은 dict을 두개 구성\n",
    "    for idx, (genre, play) in enumerate(zip(genres, plays)): #zip을 활용해서 두개의 list를 동시에 뽑아낼 수 있음\n",
    "        if genre not in dic1:\n",
    "            dic1[genre] = [(idx, play)]\n",
    "        else:\n",
    "            dic1[genre].append((idx, play))\n",
    "        \n",
    "        if genre not in dic2:\n",
    "            dic2[genre] = play\n",
    "        else:\n",
    "            dic2[genre] += play\n",
    "    \n",
    "    \"\"\"\n",
    "    #1. dic2를 이용해서 장르별로 sort를 먼저 한다.\n",
    "    #2. for문을 통해서 sort된 장르를 하나씩 뽑은 후 해당 장르에 해당하는 키를 dic1에서 찾아서 리턴한다. 이때 dic1은 이미 정렬되어 있다.\n",
    "    \"\"\"\n",
    "      \n",
    "    for genre, _ in sorted(dic2.items(), key=lambda x: x[1], reverse=True): # dic2를 내림차순 정렬\n",
    "        for music_name, _ in sorted(dic1[genre], key=lambda x: x[1], reverse=True)[:2]: # dic1를 내림차순 정렬 후 최대 두개까지 잘라냄\n",
    "            answer.append(music_name)\n",
    "    \n",
    "    return answer"
   ]
  },
  {
   "cell_type": "code",
   "execution_count": 24,
   "metadata": {
    "execution": {
     "iopub.execute_input": "2021-10-07T07:47:56.599092Z",
     "iopub.status.busy": "2021-10-07T07:47:56.598820Z",
     "iopub.status.idle": "2021-10-07T07:47:56.604867Z",
     "shell.execute_reply": "2021-10-07T07:47:56.604106Z",
     "shell.execute_reply.started": "2021-10-07T07:47:56.599063Z"
    }
   },
   "outputs": [
    {
     "data": {
      "text/plain": [
       "[4, 1, 3, 0]"
      ]
     },
     "execution_count": 24,
     "metadata": {},
     "output_type": "execute_result"
    }
   ],
   "source": [
    "genres = [\"classic\", \"pop\", \"classic\", \"classic\", \"pop\"]\n",
    "plays = [500, 600, 150, 800, 2500]\n",
    "# return 4,1,3,0\n",
    "\n",
    "solution(genres, plays)"
   ]
  },
  {
   "cell_type": "markdown",
   "metadata": {},
   "source": [
    "### 깨달음"
   ]
  },
  {
   "cell_type": "markdown",
   "metadata": {},
   "source": [
    "- 위의 풀이에서 만든 dic 처럼, dic의 형태에 대해서 유동적으로 생각해야한다.\n",
    "- 나는 처음에 dic을 습관처럼 json 형태로 만들려고 했고, 생각하다보니 그게 더 복잡해서 걍 안만들었다..\n",
    "- dic = {\"classic\" : [(0, 500), (2, 150), (3,800)], \"pop\" : [(1, 600), (4, 2500)]} 이런식으로 구성하는걸 생각했다면 더 쉽게 풀었을 것이다..\n",
    "\n",
    "\"파이썬 dict 특 : 키와 밸류의 값들을 내 맘대로 구성해도 된다!!! type의 구애를 받지 않아서 걍 \"string\" : \"list\" 형태도 잘 박힌다.\""
   ]
  },
  {
   "cell_type": "markdown",
   "metadata": {},
   "source": [
    "급하면 Counter객체 구성해서 정렬해도 되고\n",
    "원래는 sorted() 써서 위에처럼 items() 로 뽑아서 튜플을 원소로 가지는 리스트 구성 후 lambda 쓰는게 맞다"
   ]
  },
  {
   "cell_type": "code",
   "execution_count": null,
   "metadata": {},
   "outputs": [],
   "source": []
  }
 ],
 "metadata": {
  "kernelspec": {
   "display_name": "Python 3",
   "language": "python",
   "name": "python3"
  },
  "language_info": {
   "codemirror_mode": {
    "name": "ipython",
    "version": 3
   },
   "file_extension": ".py",
   "mimetype": "text/x-python",
   "name": "python",
   "nbconvert_exporter": "python",
   "pygments_lexer": "ipython3",
   "version": "3.7.8"
  }
 },
 "nbformat": 4,
 "nbformat_minor": 4
}
