{
 "cells": [
  {
   "cell_type": "markdown",
   "metadata": {},
   "source": [
    "### 내 풀이\n",
    "- https://programmers.co.kr/learn/courses/30/lessons/42747"
   ]
  },
  {
   "cell_type": "code",
   "execution_count": 19,
   "metadata": {
    "execution": {
     "iopub.execute_input": "2021-10-29T03:26:22.155381Z",
     "iopub.status.busy": "2021-10-29T03:26:22.155112Z",
     "iopub.status.idle": "2021-10-29T03:26:22.160744Z",
     "shell.execute_reply": "2021-10-29T03:26:22.160044Z",
     "shell.execute_reply.started": "2021-10-29T03:26:22.155356Z"
    }
   },
   "outputs": [],
   "source": [
    "def solution(citations):\n",
    "    \"\"\"\n",
    "    논문 n 편 중 h번 이상 인용된 논문이 h번 이상이고, 나머지 논문이 h번 이하 인용되었다면 h의 최댓값이 리턴된다.\n",
    "    h의 최대값이 10000, 리스트의 최대 크기는 1000임.\n",
    "    \n",
    "    [3,0,6,1,5]에서 \n",
    "    0번이상 인용된 논문 5개. -> 0번 이상임\n",
    "    1번 이상 인용된 논문이 4개. -> 1번 이상임\n",
    "    3번 이상 인용된 논문이 3개. -> 3번 이상임 -> h값 리턴\n",
    "    5번 이상 인용된 논문이 2개. -> 2번이니까 5번 이상이 아님\n",
    "    6번 이상 인용된 논문이 1개. -> 1번이니까 6번 이상이 아님\n",
    "    \"\"\"\n",
    "    answer = 0\n",
    "    \n",
    "    citations = sorted(citations, reverse=True)\n",
    "    print(citations)\n",
    "    citation_max = citations[0]\n",
    "    count = 0\n",
    "    \n",
    "    for i in list(range(citation_max+1))[::-1]:\n",
    "        _list = [n for n in citations if n >= i]\n",
    "        if len(_list) >= i:\n",
    "            answer = i\n",
    "            break\n",
    "\n",
    "    \n",
    "    return answer"
   ]
  },
  {
   "cell_type": "code",
   "execution_count": 20,
   "metadata": {
    "execution": {
     "iopub.execute_input": "2021-10-29T03:26:22.321550Z",
     "iopub.status.busy": "2021-10-29T03:26:22.321180Z",
     "iopub.status.idle": "2021-10-29T03:26:22.327457Z",
     "shell.execute_reply": "2021-10-29T03:26:22.326733Z",
     "shell.execute_reply.started": "2021-10-29T03:26:22.321513Z"
    }
   },
   "outputs": [
    {
     "name": "stdout",
     "output_type": "stream",
     "text": [
      "[6, 6, 6, 5, 3, 1, 0]\n"
     ]
    },
    {
     "data": {
      "text/plain": [
       "4"
      ]
     },
     "execution_count": 20,
     "metadata": {},
     "output_type": "execute_result"
    }
   ],
   "source": [
    "citations = [3, 0, 6, 1, 5, 6, 6]\n",
    "solution(citations)"
   ]
  },
  {
   "cell_type": "code",
   "execution_count": 23,
   "metadata": {
    "execution": {
     "iopub.execute_input": "2021-10-29T03:26:34.270887Z",
     "iopub.status.busy": "2021-10-29T03:26:34.270597Z",
     "iopub.status.idle": "2021-10-29T03:26:34.277091Z",
     "shell.execute_reply": "2021-10-29T03:26:34.276183Z",
     "shell.execute_reply.started": "2021-10-29T03:26:34.270856Z"
    }
   },
   "outputs": [
    {
     "name": "stdout",
     "output_type": "stream",
     "text": [
      "[1, 1, 1]\n"
     ]
    },
    {
     "data": {
      "text/plain": [
       "1"
      ]
     },
     "execution_count": 23,
     "metadata": {},
     "output_type": "execute_result"
    }
   ],
   "source": [
    "citations = [1, 1, 1]\n",
    "solution(citations)"
   ]
  },
  {
   "cell_type": "code",
   "execution_count": 22,
   "metadata": {
    "execution": {
     "iopub.execute_input": "2021-10-29T03:26:30.387240Z",
     "iopub.status.busy": "2021-10-29T03:26:30.386973Z",
     "iopub.status.idle": "2021-10-29T03:26:30.392520Z",
     "shell.execute_reply": "2021-10-29T03:26:30.391689Z",
     "shell.execute_reply.started": "2021-10-29T03:26:30.387216Z"
    }
   },
   "outputs": [
    {
     "data": {
      "text/plain": [
       "[2, 1, 0]"
      ]
     },
     "execution_count": 22,
     "metadata": {},
     "output_type": "execute_result"
    }
   ],
   "source": [
    "list(range(3))[::-1]"
   ]
  },
  {
   "cell_type": "markdown",
   "metadata": {},
   "source": [
    "### 제출물\n",
    "- 역시나 최대 루프 횟수가 1000 * 10000인데 이정도는 대충 넘어가진다."
   ]
  },
  {
   "cell_type": "code",
   "execution_count": 24,
   "metadata": {
    "execution": {
     "iopub.execute_input": "2021-10-29T03:27:38.979839Z",
     "iopub.status.busy": "2021-10-29T03:27:38.979574Z",
     "iopub.status.idle": "2021-10-29T03:27:38.986187Z",
     "shell.execute_reply": "2021-10-29T03:27:38.985065Z",
     "shell.execute_reply.started": "2021-10-29T03:27:38.979816Z"
    }
   },
   "outputs": [],
   "source": [
    "def solution(citations):\n",
    "    \"\"\"\n",
    "    논문 n 편 중 h번 이상 인용된 논문이 h번 이상이고, 나머지 논문이 h번 이하 인용되었다면 h의 최댓값이 리턴된다.\n",
    "    h의 최대값이 10000, 리스트의 최대 크기는 1000임.\n",
    "    \n",
    "    [3,0,6,1,5]에서 \n",
    "    0번이상 인용된 논문 5개. -> 0번 이상임\n",
    "    1번 이상 인용된 논문이 4개. -> 1번 이상임\n",
    "    3번 이상 인용된 논문이 3개. -> 3번 이상임 -> h값 리턴\n",
    "    5번 이상 인용된 논문이 2개. -> 2번이니까 5번 이상이 아님\n",
    "    6번 이상 인용된 논문이 1개. -> 1번이니까 6번 이상이 아님\n",
    "    \"\"\"\n",
    "    answer = 0\n",
    "    citations = sorted(citations, reverse=True)\n",
    "    citation_max = citations[0]\n",
    "    \n",
    "    for i in list(range(citation_max+1))[::-1]:\n",
    "        _list = [n for n in citations if n >= i]\n",
    "        if len(_list) >= i:\n",
    "            answer = i\n",
    "            break\n",
    "\n",
    "    return answer"
   ]
  },
  {
   "cell_type": "code",
   "execution_count": 25,
   "metadata": {
    "execution": {
     "iopub.execute_input": "2021-10-29T03:27:43.255170Z",
     "iopub.status.busy": "2021-10-29T03:27:43.254904Z",
     "iopub.status.idle": "2021-10-29T03:27:43.260647Z",
     "shell.execute_reply": "2021-10-29T03:27:43.259677Z",
     "shell.execute_reply.started": "2021-10-29T03:27:43.255141Z"
    }
   },
   "outputs": [
    {
     "data": {
      "text/plain": [
       "4"
      ]
     },
     "execution_count": 25,
     "metadata": {},
     "output_type": "execute_result"
    }
   ],
   "source": [
    "citations = [3, 0, 6, 1, 5, 6, 6]\n",
    "solution(citations)"
   ]
  },
  {
   "cell_type": "code",
   "execution_count": null,
   "metadata": {},
   "outputs": [],
   "source": []
  }
 ],
 "metadata": {
  "kernelspec": {
   "display_name": "Python 3",
   "language": "python",
   "name": "python3"
  },
  "language_info": {
   "codemirror_mode": {
    "name": "ipython",
    "version": 3
   },
   "file_extension": ".py",
   "mimetype": "text/x-python",
   "name": "python",
   "nbconvert_exporter": "python",
   "pygments_lexer": "ipython3",
   "version": "3.7.8"
  }
 },
 "nbformat": 4,
 "nbformat_minor": 4
}
