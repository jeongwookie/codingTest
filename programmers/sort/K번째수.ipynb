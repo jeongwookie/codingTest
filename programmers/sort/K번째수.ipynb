{
 "cells": [
  {
   "cell_type": "markdown",
   "metadata": {},
   "source": [
    "### 내 풀이\n",
    "- https://programmers.co.kr/learn/courses/30/lessons/42748"
   ]
  },
  {
   "cell_type": "code",
   "execution_count": 7,
   "metadata": {
    "execution": {
     "iopub.execute_input": "2021-10-26T04:32:05.100593Z",
     "iopub.status.busy": "2021-10-26T04:32:05.100317Z",
     "iopub.status.idle": "2021-10-26T04:32:05.106711Z",
     "shell.execute_reply": "2021-10-26T04:32:05.105046Z",
     "shell.execute_reply.started": "2021-10-26T04:32:05.100564Z"
    }
   },
   "outputs": [],
   "source": [
    "def solution(array, commands):\n",
    "    \"\"\"\n",
    "    i번째부터 j번째까지 자른 후 그 안에서 k번째 숫자 리턴\n",
    "    \"\"\"\n",
    "    answer = []\n",
    "    for command in commands:\n",
    "        #1. Slicing\n",
    "        array_sliced = array[command[0]-1:command[1]]\n",
    "        print(array_sliced)\n",
    "        \n",
    "        #2. Sort\n",
    "        array_sliced.sort()\n",
    "        print(array_sliced)\n",
    "        \n",
    "        #3. K번째 숫자 리턴\n",
    "        N = array_sliced[command[2]-1]\n",
    "        print(N)\n",
    "        answer.append(N)\n",
    "        \n",
    "    return answer"
   ]
  },
  {
   "cell_type": "code",
   "execution_count": 8,
   "metadata": {
    "execution": {
     "iopub.execute_input": "2021-10-26T04:32:05.536563Z",
     "iopub.status.busy": "2021-10-26T04:32:05.536342Z",
     "iopub.status.idle": "2021-10-26T04:32:05.548274Z",
     "shell.execute_reply": "2021-10-26T04:32:05.547412Z",
     "shell.execute_reply.started": "2021-10-26T04:32:05.536539Z"
    }
   },
   "outputs": [
    {
     "name": "stdout",
     "output_type": "stream",
     "text": [
      "[5, 2, 6, 3]\n",
      "[2, 3, 5, 6]\n",
      "5\n",
      "[6]\n",
      "[6]\n",
      "6\n",
      "[1, 5, 2, 6, 3, 7, 4]\n",
      "[1, 2, 3, 4, 5, 6, 7]\n",
      "3\n"
     ]
    },
    {
     "data": {
      "text/plain": [
       "[5, 6, 3]"
      ]
     },
     "execution_count": 8,
     "metadata": {},
     "output_type": "execute_result"
    }
   ],
   "source": [
    "array = [1, 5, 2, 6, 3, 7, 4]\n",
    "commands = [[2, 5, 3], [4, 4, 1], [1, 7, 3]]\n",
    "solution(array, commands)"
   ]
  },
  {
   "cell_type": "markdown",
   "metadata": {},
   "source": [
    "### 제출물"
   ]
  },
  {
   "cell_type": "code",
   "execution_count": 9,
   "metadata": {
    "execution": {
     "iopub.execute_input": "2021-10-26T04:32:32.264374Z",
     "iopub.status.busy": "2021-10-26T04:32:32.262894Z",
     "iopub.status.idle": "2021-10-26T04:32:32.286368Z",
     "shell.execute_reply": "2021-10-26T04:32:32.275055Z",
     "shell.execute_reply.started": "2021-10-26T04:32:32.264317Z"
    }
   },
   "outputs": [],
   "source": [
    "def solution(array, commands):\n",
    "    \"\"\"\n",
    "    i번째부터 j번째까지 자른 후 그 안에서 k번째 숫자 리턴\n",
    "    \"\"\"\n",
    "    answer = []\n",
    "    for command in commands:\n",
    "        #1. Slicing\n",
    "        array_sliced = array[command[0]-1:command[1]]\n",
    "        #2. Sort\n",
    "        array_sliced.sort()\n",
    "        #3. K번째 숫자 리턴\n",
    "        N = array_sliced[command[2]-1]\n",
    "        answer.append(N)\n",
    "        \n",
    "    return answer"
   ]
  },
  {
   "cell_type": "code",
   "execution_count": 10,
   "metadata": {
    "execution": {
     "iopub.execute_input": "2021-10-26T04:32:35.830961Z",
     "iopub.status.busy": "2021-10-26T04:32:35.830683Z",
     "iopub.status.idle": "2021-10-26T04:32:35.837710Z",
     "shell.execute_reply": "2021-10-26T04:32:35.836385Z",
     "shell.execute_reply.started": "2021-10-26T04:32:35.830929Z"
    }
   },
   "outputs": [
    {
     "data": {
      "text/plain": [
       "[5, 6, 3]"
      ]
     },
     "execution_count": 10,
     "metadata": {},
     "output_type": "execute_result"
    }
   ],
   "source": [
    "array = [1, 5, 2, 6, 3, 7, 4]\n",
    "commands = [[2, 5, 3], [4, 4, 1], [1, 7, 3]]\n",
    "solution(array, commands)"
   ]
  },
  {
   "cell_type": "markdown",
   "metadata": {},
   "source": [
    "### 다른 풀이"
   ]
  },
  {
   "cell_type": "code",
   "execution_count": 15,
   "metadata": {
    "execution": {
     "iopub.execute_input": "2021-10-26T04:35:06.804006Z",
     "iopub.status.busy": "2021-10-26T04:35:06.803579Z",
     "iopub.status.idle": "2021-10-26T04:35:06.808852Z",
     "shell.execute_reply": "2021-10-26T04:35:06.808001Z",
     "shell.execute_reply.started": "2021-10-26T04:35:06.803968Z"
    }
   },
   "outputs": [],
   "source": [
    "def solution(array, commands):\n",
    "    answer = []\n",
    "    for i,j,k in commands:\n",
    "        answer.append(sorted(array[i-1:j])[k-1])\n",
    "        \n",
    "    return answer"
   ]
  },
  {
   "cell_type": "code",
   "execution_count": 16,
   "metadata": {
    "execution": {
     "iopub.execute_input": "2021-10-26T04:35:06.951885Z",
     "iopub.status.busy": "2021-10-26T04:35:06.951493Z",
     "iopub.status.idle": "2021-10-26T04:35:06.959769Z",
     "shell.execute_reply": "2021-10-26T04:35:06.958889Z",
     "shell.execute_reply.started": "2021-10-26T04:35:06.951851Z"
    }
   },
   "outputs": [
    {
     "data": {
      "text/plain": [
       "[5, 6, 3]"
      ]
     },
     "execution_count": 16,
     "metadata": {},
     "output_type": "execute_result"
    }
   ],
   "source": [
    "array = [1, 5, 2, 6, 3, 7, 4]\n",
    "commands = [[2, 5, 3], [4, 4, 1], [1, 7, 3]]\n",
    "solution(array, commands)"
   ]
  },
  {
   "cell_type": "code",
   "execution_count": null,
   "metadata": {},
   "outputs": [],
   "source": []
  }
 ],
 "metadata": {
  "kernelspec": {
   "display_name": "Python 3",
   "language": "python",
   "name": "python3"
  },
  "language_info": {
   "codemirror_mode": {
    "name": "ipython",
    "version": 3
   },
   "file_extension": ".py",
   "mimetype": "text/x-python",
   "name": "python",
   "nbconvert_exporter": "python",
   "pygments_lexer": "ipython3",
   "version": "3.7.8"
  }
 },
 "nbformat": 4,
 "nbformat_minor": 4
}
