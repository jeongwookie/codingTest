{
 "cells": [
  {
   "cell_type": "markdown",
   "metadata": {},
   "source": [
    "### 내풀이\n",
    "- https://programmers.co.kr/learn/courses/30/lessons/42746"
   ]
  },
  {
   "cell_type": "code",
   "execution_count": 51,
   "metadata": {
    "execution": {
     "iopub.execute_input": "2021-10-28T07:40:36.897133Z",
     "iopub.status.busy": "2021-10-28T07:40:36.896846Z",
     "iopub.status.idle": "2021-10-28T07:40:36.903480Z",
     "shell.execute_reply": "2021-10-28T07:40:36.902702Z",
     "shell.execute_reply.started": "2021-10-28T07:40:36.897106Z"
    }
   },
   "outputs": [],
   "source": [
    "import heapq\n",
    "def solution(numbers):\n",
    "    \"\"\"\n",
    "    0 또는 양의 정수가 주어졌을 때, 정수를 이어 붙여 만들 수 있는 가장 큰 수를 알아내 주세요.\n",
    "    [6, 10, 2] 가 주어지면 6210 이 최대의 수임.\n",
    "    \n",
    "    어떻게 하면 만들수 있나? 각 숫자의 제일 앞자리가 가장 큰 수여야함.\n",
    "    [6,97,9,2] -> 97962 99762 뒤가 더 크겠지.\n",
    "    [6,97,999,2]\n",
    "    \n",
    "    numbers의 원소는 1000이하.\n",
    "    \n",
    "    \n",
    "    \"\"\"\n",
    "    answer = ''\n",
    "    \n",
    "    #1. 앞자리 정렬\n",
    "    numbers = list(map(str, numbers))\n",
    "    sorted_number = sorted(numbers, key=lambda x: x[0], reverse=True)\n",
    "    print(sorted_number)\n",
    "    \n",
    "    #2. 앞자리가 같은 애들만 모아서 저장하기.\n",
    "    _dict = {}\n",
    "    for num in sorted_number:\n",
    "        first = int(num[0])\n",
    "        if not _dict.get(first):\n",
    "            _dict[first] = [num]\n",
    "        else:\n",
    "            _dict[first].append(num)    \n",
    "    print(_dict)\n",
    "    \n",
    "    #3. 합치기\n",
    "    keys = sorted(_dict.keys(), reverse=True)\n",
    "    for key in keys:\n",
    "        _heap = [(len(item), item) for item in _dict[key]]\n",
    "        heapq.heapify(_heap)\n",
    "        print(_heap)\n",
    "        \n",
    "        _save = []\n",
    "        while _heap:\n",
    "            poped = heapq.heappop(_heap)\n",
    "            \n",
    "            if not _save:\n",
    "                _save.append(poped)\n",
    "            else:\n",
    "                if _save[-1][0] == poped[0]:\n",
    "                    _save.append(poped)\n",
    "                else:\n",
    "        \n",
    "        \n",
    "        break\n",
    "    \n",
    "    \n",
    "    \n",
    "    return answer"
   ]
  },
  {
   "cell_type": "code",
   "execution_count": 53,
   "metadata": {
    "execution": {
     "iopub.execute_input": "2021-10-28T07:44:55.874968Z",
     "iopub.status.busy": "2021-10-28T07:44:55.874677Z",
     "iopub.status.idle": "2021-10-28T07:44:55.882052Z",
     "shell.execute_reply": "2021-10-28T07:44:55.880843Z",
     "shell.execute_reply.started": "2021-10-28T07:44:55.874937Z"
    }
   },
   "outputs": [
    {
     "name": "stdout",
     "output_type": "stream",
     "text": [
      "['92', '9', '9', '93', '911', '5', '3', '30', '34']\n",
      "{9: ['92', '9', '9', '93', '911'], 5: ['5'], 3: ['3', '30', '34']}\n",
      "[(1, '9'), (1, '9'), (2, '92'), (2, '93'), (3, '911')]\n"
     ]
    },
    {
     "data": {
      "text/plain": [
       "''"
      ]
     },
     "execution_count": 53,
     "metadata": {},
     "output_type": "execute_result"
    }
   ],
   "source": [
    "numbers = [3, 30, 92, 34, 5, 9, 9, 93, 911]\n",
    "solution(numbers)"
   ]
  },
  {
   "cell_type": "code",
   "execution_count": 50,
   "metadata": {
    "execution": {
     "iopub.execute_input": "2021-10-28T07:40:07.275288Z",
     "iopub.status.busy": "2021-10-28T07:40:07.275039Z",
     "iopub.status.idle": "2021-10-28T07:40:07.280440Z",
     "shell.execute_reply": "2021-10-28T07:40:07.279739Z",
     "shell.execute_reply.started": "2021-10-28T07:40:07.275262Z"
    }
   },
   "outputs": [
    {
     "data": {
      "text/plain": [
       "[(1, '9'), (2, '92'), (2, '93'), (3, '911')]"
      ]
     },
     "execution_count": 50,
     "metadata": {},
     "output_type": "execute_result"
    }
   ],
   "source": [
    "l = [(2, '92'), (1, '9'), (2, '93'), (3, '911')]\n",
    "heapq.heapify(l)\n",
    "l"
   ]
  },
  {
   "cell_type": "markdown",
   "metadata": {},
   "source": [
    "### 어휴 생각보다 문제가 복잡해서 풀이를 봐버렸다.."
   ]
  },
  {
   "cell_type": "code",
   "execution_count": 63,
   "metadata": {
    "execution": {
     "iopub.execute_input": "2021-10-28T08:20:29.361499Z",
     "iopub.status.busy": "2021-10-28T08:20:29.361181Z",
     "iopub.status.idle": "2021-10-28T08:20:29.367440Z",
     "shell.execute_reply": "2021-10-28T08:20:29.366304Z",
     "shell.execute_reply.started": "2021-10-28T08:20:29.361464Z"
    }
   },
   "outputs": [],
   "source": [
    "def solution(numbers):\n",
    "    \"\"\"\n",
    "    주어진 숫자를 string 처리 후, 반복을 통해 서로 자릿수를 맞춰줌.\n",
    "    여기서는 최대가 1000이므로, 각 숫자 * 3을 해줘서 한자리 숫자를 세자리 숫자로 강제로 맞춰준다.\n",
    "    string 원소들을 sort 하면 원하는 결과를 얻을 수 있다.\n",
    "    \n",
    "    9는 999와 같고\n",
    "    90은 909와 같고\n",
    "    34는 343과 같은 상태로 비교해야한다.\n",
    "    345\n",
    "    \"\"\"\n",
    "    #1. 문자로 만들기\n",
    "    numbers = list(map(str, numbers))\n",
    "    \n",
    "    #2. sort 하되 *3 한 상태로. 10 -> 101010으로\n",
    "    numbers.sort(key=lambda x: x*3, reverse=True)\n",
    "    #print(numbers)\n",
    "    \n",
    "    answer = ''\n",
    "    answer = answer.join(numbers)\n",
    "    \n",
    "    #3. 0000 과 같은 경우를 0으로 만듬.\n",
    "    return str(int(answer))"
   ]
  },
  {
   "cell_type": "code",
   "execution_count": 64,
   "metadata": {
    "execution": {
     "iopub.execute_input": "2021-10-28T08:20:29.862513Z",
     "iopub.status.busy": "2021-10-28T08:20:29.862209Z",
     "iopub.status.idle": "2021-10-28T08:20:29.868521Z",
     "shell.execute_reply": "2021-10-28T08:20:29.867671Z",
     "shell.execute_reply.started": "2021-10-28T08:20:29.862480Z"
    }
   },
   "outputs": [
    {
     "data": {
      "text/plain": [
       "'999392911534330'"
      ]
     },
     "execution_count": 64,
     "metadata": {},
     "output_type": "execute_result"
    }
   ],
   "source": [
    "numbers = [3, 30, 92, 34, 5, 9, 9, 93, 911]\n",
    "solution(numbers)"
   ]
  },
  {
   "cell_type": "markdown",
   "metadata": {},
   "source": [
    "### 다른 풀이\n",
    "- sorted를 하는데 , 그 하는 방법에 대해서 key에다가 함수를 전달하는 것이 포인트이다.\n",
    "- key에 함수를 입력하려면 functools.cmp_to_key 를 사용한다.\n",
    "- 함수는 직접 인자를 정해서 작성하면 된다."
   ]
  },
  {
   "cell_type": "code",
   "execution_count": 98,
   "metadata": {
    "execution": {
     "iopub.execute_input": "2021-10-28T09:48:51.855606Z",
     "iopub.status.busy": "2021-10-28T09:48:51.855234Z",
     "iopub.status.idle": "2021-10-28T09:48:51.861371Z",
     "shell.execute_reply": "2021-10-28T09:48:51.860668Z",
     "shell.execute_reply.started": "2021-10-28T09:48:51.855556Z"
    }
   },
   "outputs": [],
   "source": [
    "import functools\n",
    "\n",
    "def comparator(str1, str2):\n",
    "    # 두개의 인접한 str을 받아서 비교한다.\n",
    "    compare1 = int(str1 + str2)\n",
    "    compare2 = int(str2 + str1)\n",
    "    \n",
    "    \"\"\"\n",
    "    반드시 첫번째 인자를 기준으로 한다.\n",
    "    첫번째 인자가 크면 -> 1 리턴 : compare 값이 큰 순서대로\n",
    "    첫번째 인자가 작으면 -> -1 리턴 \n",
    "    같으면 -> 0 리턴 (?)\n",
    "    이런 방식으로 동작하게 함수를 짜주면 된다.\n",
    "    \"\"\"\n",
    "    print(f\"{str1} 와 {str2}\")\n",
    "    #print(compare1 > compare2)\n",
    "    return (compare1 > compare2) - (compare1 < compare2) # True : 1, False : 0으로 계산된다.\n",
    "\n",
    "def solution(numbers):\n",
    "    numbers_string = [str(i) for i in numbers]\n",
    "    print(numbers_string)\n",
    "    # sorted함수를 쓰는데, key를 지정할때 뭔가 functools를 썼다.\n",
    "    numbers_string = sorted(numbers_string, key=functools.cmp_to_key(comparator))#, reverse=True)\n",
    "    print(numbers_string)\n",
    "    \n",
    "    answer = str(int(''.join(numbers_string)))\n",
    "    return answer"
   ]
  },
  {
   "cell_type": "code",
   "execution_count": 99,
   "metadata": {
    "execution": {
     "iopub.execute_input": "2021-10-28T09:48:52.004372Z",
     "iopub.status.busy": "2021-10-28T09:48:52.003962Z",
     "iopub.status.idle": "2021-10-28T09:48:52.010849Z",
     "shell.execute_reply": "2021-10-28T09:48:52.009865Z",
     "shell.execute_reply.started": "2021-10-28T09:48:52.004334Z"
    }
   },
   "outputs": [
    {
     "name": "stdout",
     "output_type": "stream",
     "text": [
      "['6', '10', '2']\n",
      "10 와 6\n",
      "2 와 10\n",
      "2 와 6\n",
      "2 와 10\n",
      "['10', '2', '6']\n"
     ]
    },
    {
     "data": {
      "text/plain": [
       "'1026'"
      ]
     },
     "execution_count": 99,
     "metadata": {},
     "output_type": "execute_result"
    }
   ],
   "source": [
    "numbers = [6, 10, 2]\n",
    "solution(numbers)"
   ]
  },
  {
   "cell_type": "code",
   "execution_count": 91,
   "metadata": {
    "execution": {
     "iopub.execute_input": "2021-10-28T09:15:29.970660Z",
     "iopub.status.busy": "2021-10-28T09:15:29.970387Z",
     "iopub.status.idle": "2021-10-28T09:15:29.976941Z",
     "shell.execute_reply": "2021-10-28T09:15:29.976209Z",
     "shell.execute_reply.started": "2021-10-28T09:15:29.970631Z"
    }
   },
   "outputs": [
    {
     "name": "stdout",
     "output_type": "stream",
     "text": [
      "['3', '30', '92', '34', '5', '9', '9', '93', '911']\n",
      "['9', '9', '93', '92', '911', '5', '34', '3', '30']\n"
     ]
    },
    {
     "data": {
      "text/plain": [
       "'999392911534330'"
      ]
     },
     "execution_count": 91,
     "metadata": {},
     "output_type": "execute_result"
    }
   ],
   "source": [
    "numbers = [3, 30, 92, 34, 5, 9, 9, 93, 911]\n",
    "solution(numbers)"
   ]
  },
  {
   "cell_type": "code",
   "execution_count": null,
   "metadata": {},
   "outputs": [],
   "source": []
  }
 ],
 "metadata": {
  "kernelspec": {
   "display_name": "Python 3",
   "language": "python",
   "name": "python3"
  },
  "language_info": {
   "codemirror_mode": {
    "name": "ipython",
    "version": 3
   },
   "file_extension": ".py",
   "mimetype": "text/x-python",
   "name": "python",
   "nbconvert_exporter": "python",
   "pygments_lexer": "ipython3",
   "version": "3.7.8"
  }
 },
 "nbformat": 4,
 "nbformat_minor": 4
}
