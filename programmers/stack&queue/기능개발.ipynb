{
 "cells": [
  {
   "cell_type": "markdown",
   "metadata": {},
   "source": [
    "### 내 풀이"
   ]
  },
  {
   "cell_type": "code",
   "execution_count": 42,
   "metadata": {
    "execution": {
     "iopub.execute_input": "2021-10-08T07:53:07.458713Z",
     "iopub.status.busy": "2021-10-08T07:53:07.458394Z",
     "iopub.status.idle": "2021-10-08T07:53:07.478481Z",
     "shell.execute_reply": "2021-10-08T07:53:07.477235Z",
     "shell.execute_reply.started": "2021-10-08T07:53:07.458677Z"
    }
   },
   "outputs": [],
   "source": [
    "def solution(progresses, speeds):\n",
    "    \"\"\"\n",
    "    progresses : 먼저 배포되어야 하는 순서대로의 작업의 진도가 적힌 정수 배열. 길이 100 이하 \n",
    "    speeds : 각 작업의 개발 속도가 적힌 정수 배열. 길이 100 이하\n",
    "    return : 각 배포마다 //  몇개의 기능이 배포되는지를 list로 넣어서 리턴하기\n",
    "    \n",
    "    각 list의 인덱스가 작업의 이름인거네 고유 id인거고.\n",
    "    progress가 해당 작업이 얼마나 완료되어 있나 이걸 보여주는거고.\n",
    "    \n",
    "    수치가 100에 도달하면 배포가 가능함. \n",
    "    각 기능 별 배포 가능일을 계산하나? \n",
    "    progress + speed * x >= 100 일때 x의 최소값을 구하면 그게 배포 최초 가능일임.\n",
    "    \n",
    "    시간으로 계산? 하루 지나고 뭐가 완성됐나 보고. 완성된 즉시 스택에 넣고.\n",
    "    결국 몇일째에 배포되는지는 크게 중요하지 않고, 한번 배포될때 몇개의 기능이 들어가있는지 count만 하면 되는 문제임.\n",
    "    \n",
    "    for문으로 하루씩 시간을 증가시킨 후:\n",
    "        progress list에 speed list만큼 더해주고, 이걸 100이 넘는지 체크해줘야함. 으악 이렇게 하니까 개 비효율적으로 보임...\n",
    "        근데 머 효율 따지는 문제가 아니니까 괜찮을듯? 코딩 일단 시작해보자.\n",
    "    \n",
    "    \n",
    "    위 방법대로 하다가 막힘. 너무 비효율적임.\n",
    "    차라리 순서가 이미 정해져있으니까, 제일 처음놈부터 언제 100 채울수 있는지 계산한 후에 그만큼만 for문 돌려서 잡아내고 다시 만드는걸로\n",
    "    \"\"\"\n",
    "\n",
    "    class Stack():\n",
    "        \"\"\"\n",
    "        size, isEmpty, push, pop, peek 5가지 연산 빠르게 구현\n",
    "        \"\"\"\n",
    "        def __init__(self):\n",
    "            self.data = [] # data라는 attr을 만듬. 이를 빈 list로 초기화\n",
    "\n",
    "        def size(self):\n",
    "            return len(self.data)\n",
    "\n",
    "        def isEmpty(self):\n",
    "            return self.size() == 0\n",
    "\n",
    "        def push(self, item):\n",
    "            return self.data.append(item)\n",
    "\n",
    "        def pop(self):\n",
    "            return self.data.pop()\n",
    "\n",
    "        def peek(self):\n",
    "            return self.data[-1]\n",
    "\n",
    "        def __repr__(self): # 출력볼려고 만듬\n",
    "            return f\"{self.data}\"\n",
    "    \n",
    "    \n",
    "    answer = []\n",
    "    stack = Stack()\n",
    "    \n",
    "    # 함수를 만드는데, progress 최초값이랑 speed가 주어지면 최소 x값 뽑아내는 함수\n",
    "    def calculate_finish_day(progress, speed):\n",
    "        for day in range(1,100):\n",
    "            progress += speed\n",
    "            if progress >= 100:\n",
    "                return day\n",
    "            \n",
    "    \n",
    "    # 시작 포인트를 입력하고, progress랑 speed가 담긴 리스트를 넣으면 \n",
    "    # 리턴값으로 처음 시작점 기준으로 같이 끝나는 progress들의 숫자 합을 계산하고, 갱신된 progress 및 매치된 speed를 반환하는 함수를 구현하면?\n",
    "    # 무조건적으로 시작점은 0이네. 그러면 0으로 걍 고정하자.\n",
    "    \n",
    "    def answer(progresses, speeds):\n",
    "        num = 1\n",
    "        target_progress = progresses[0]\n",
    "        target_speed = speeds[0]\n",
    "        target_finish_day = calculate_finish_day(target_progress, target_speed)\n",
    "        \n",
    "        _result = []\n",
    "        for p,s in zip(progresses[1:], speeds[1:]):\n",
    "            curr = p + s * target_finish_day # 240, 90\n",
    "            _result.append(curr) # 해당 횟수만큼 진행\n",
    "        \n",
    "        print(_result)\n",
    "        # 진행하고 나서, 100이 넘으면 한방에 묶어서 보낸다.\n",
    "        next_progresses = []\n",
    "        next_speeds_idx = []\n",
    "        for idx, item in enumerate(_result):\n",
    "            if item >= 100:\n",
    "                num += 1 # 1을 증가시킴. 그리고 저장하지 않음.\n",
    "            else:\n",
    "                next_progresses.append(item) # 다음에 판별할꺼임\n",
    "                next_speeds_idx.append(idx) # speed 저장용. 이쯤 되니까 첨부터 dict을 만들껄 그랬음..\n",
    "        \n",
    "        next_speeds = [speeds[1:][i] for i in next_speeds_idx]\n",
    "        print(next_progresses)\n",
    "        print(next_speeds)\n",
    "        print(num)\n",
    "        answer.append(num)\n",
    "           \n",
    "        if len(next_progresses) == 0:\n",
    "            return 0\n",
    "        \n",
    "        else:\n",
    "            answer(next_progresses, next_speeds)\n",
    "    \n",
    "    # 실행\n",
    "    answer(progresses, speeds)\n",
    "    \n",
    "    return answer"
   ]
  },
  {
   "cell_type": "code",
   "execution_count": 43,
   "metadata": {
    "execution": {
     "iopub.execute_input": "2021-10-08T07:53:08.651112Z",
     "iopub.status.busy": "2021-10-08T07:53:08.650835Z",
     "iopub.status.idle": "2021-10-08T07:53:08.657997Z",
     "shell.execute_reply": "2021-10-08T07:53:08.656926Z",
     "shell.execute_reply.started": "2021-10-08T07:53:08.651082Z"
    }
   },
   "outputs": [
    {
     "name": "stdout",
     "output_type": "stream",
     "text": [
      "[240, 90]\n",
      "[90]\n",
      "[5]\n",
      "2\n",
      "[]\n",
      "[]\n",
      "[]\n",
      "1\n"
     ]
    },
    {
     "data": {
      "text/plain": [
       "[2, 1]"
      ]
     },
     "execution_count": 43,
     "metadata": {},
     "output_type": "execute_result"
    }
   ],
   "source": [
    "progresses = [93, 30, 55]\n",
    "speeds = [1, 30, 5]\n",
    "# return = [2, 1]\n",
    "\n",
    "solution(progresses, speeds)"
   ]
  },
  {
   "cell_type": "code",
   "execution_count": 44,
   "metadata": {
    "execution": {
     "iopub.execute_input": "2021-10-08T07:54:11.420537Z",
     "iopub.status.busy": "2021-10-08T07:54:11.420028Z",
     "iopub.status.idle": "2021-10-08T07:54:11.428087Z",
     "shell.execute_reply": "2021-10-08T07:54:11.427179Z",
     "shell.execute_reply.started": "2021-10-08T07:54:11.420480Z"
    }
   },
   "outputs": [
    {
     "name": "stdout",
     "output_type": "stream",
     "text": [
      "[95, 104, 104, 85, 104]\n",
      "[95, 85]\n",
      "[1, 1]\n",
      "4\n",
      "[90]\n",
      "[90]\n",
      "[1]\n",
      "1\n",
      "[]\n",
      "[]\n",
      "[]\n",
      "1\n"
     ]
    },
    {
     "data": {
      "text/plain": [
       "[4, 1, 1]"
      ]
     },
     "execution_count": 44,
     "metadata": {},
     "output_type": "execute_result"
    }
   ],
   "source": [
    "progresses = [95, 90, 99, 99, 80, 99]\n",
    "speeds = [1, 1, 1, 1, 1, 1]\n",
    "solution(progresses, speeds)"
   ]
  },
  {
   "cell_type": "markdown",
   "metadata": {},
   "source": [
    "### 아.... 문제를 잘못 이해함 ㅠ \n",
    "- 처음꺼만 순서를 생각하고 두번째꺼 세번째꺼 이런거도 다 서순이 중요한건데 그걸 생각안함 ㅠ\n",
    "- 예를들어서 첫번째 태스크가 5일만에 완성된다고 하면, 두번째꺼부터 끝까지 다 5일치를 계산한 후에 바로 직전꺼가 완성되었던말던간에 완료 가능한 프로세스로 다 처리해버림 ㅠㅠ\n",
    "- 왜 문제를 잘못 이해했을까? 입출력 예 1번만 보고 허겁지겁 코드를 작성했기 때문이다... 2번을 한번 더 곱씹어봤으면 이런 일이 안생겼다 ㅠ"
   ]
  },
  {
   "cell_type": "markdown",
   "metadata": {},
   "source": [
    "### 으아 스택을 사용해야한다는 느낌도 드는데 어케 사용하는지 감이 안옴...."
   ]
  },
  {
   "cell_type": "code",
   "execution_count": 59,
   "metadata": {
    "execution": {
     "iopub.execute_input": "2021-10-08T09:04:37.229766Z",
     "iopub.status.busy": "2021-10-08T09:04:37.229379Z",
     "iopub.status.idle": "2021-10-08T09:04:37.242645Z",
     "shell.execute_reply": "2021-10-08T09:04:37.240758Z",
     "shell.execute_reply.started": "2021-10-08T09:04:37.229720Z"
    }
   },
   "outputs": [],
   "source": [
    "def solution(progresses, speeds):\n",
    "    \"\"\"\n",
    "    progresses : 먼저 배포되어야 하는 순서대로의 작업의 진도가 적힌 정수 배열. 길이 100 이하 \n",
    "    speeds : 각 작업의 개발 속도가 적힌 정수 배열. 길이 100 이하\n",
    "    return : 각 배포마다 //  몇개의 기능이 배포되는지를 list로 넣어서 리턴하기\n",
    "    \n",
    "    각 list의 인덱스가 작업의 이름인거네 고유 id인거고.\n",
    "    progress가 해당 작업이 얼마나 완료되어 있나 이걸 보여주는거고.\n",
    "    \n",
    "    수치가 100에 도달하면 배포가 가능함. \n",
    "    각 기능 별 배포 가능일을 계산하나? \n",
    "    progress + speed * x >= 100 일때 x의 최소값을 구하면 그게 배포 최초 가능일임.\n",
    "    \n",
    "    배포 최소 가능일을 다 구한다음에 그걸 차례대로 스택에 넣고,\n",
    "    스택에서 뽑으면서 젤 위엣놈이랑 비교한담에 num 누적 체크후 역순정렬로 해결함.\n",
    "    \"\"\"\n",
    "\n",
    "    class Stack():\n",
    "        \"\"\"\n",
    "        size, isEmpty, push, pop, peek 5가지 연산 빠르게 구현\n",
    "        \"\"\"\n",
    "        def __init__(self):\n",
    "            self.data = [] # data라는 attr을 만듬. 이를 빈 list로 초기화\n",
    "\n",
    "        def size(self):\n",
    "            return len(self.data)\n",
    "\n",
    "        def isEmpty(self):\n",
    "            return self.size() == 0\n",
    "\n",
    "        def push(self, item):\n",
    "            return self.data.append(item)\n",
    "\n",
    "        def pop(self):\n",
    "            return self.data.pop()\n",
    "\n",
    "        def peek(self):\n",
    "            return self.data[-1]\n",
    "\n",
    "        def __repr__(self): # 출력볼려고 만듬\n",
    "            return f\"{self.data}\"\n",
    "    \n",
    "    \n",
    "    # 함수를 만드는데, progress 최초값이랑 speed가 주어지면 최소 x값 뽑아내는 함수\n",
    "    def calculate_finish_day(progress, speed):\n",
    "        for day in range(1,100):\n",
    "            progress += speed\n",
    "            if progress >= 100:\n",
    "                return day\n",
    "    \n",
    "    answer = []\n",
    "    stack = Stack()\n",
    "    \n",
    "    for progress, speed in zip(progresses, speeds):\n",
    "        finish_day = calculate_finish_day(progress, speed)\n",
    "        stack.push(finish_day)\n",
    "            \n",
    "    print(stack)    \n",
    "    num = 1\n",
    "    while True:\n",
    "        poped = stack.pop() # 더 나중에 들어온놈\n",
    "        if stack.isEmpty(): # 마지막 value였음\n",
    "            answer.append(num)\n",
    "            break\n",
    "        \n",
    "        peeked = stack.peek() # 더 먼저 들어온놈\n",
    "        if (peeked >= poped): # 아직 작업 완성이 안됨\n",
    "            num += 1\n",
    "        else: # 작업 완성됨\n",
    "            answer.append(num)\n",
    "            num = 1 # 초기화\n",
    "            \n",
    "    answer.reverse()\n",
    "    print(answer)\n",
    "    return answer"
   ]
  },
  {
   "cell_type": "code",
   "execution_count": 60,
   "metadata": {
    "execution": {
     "iopub.execute_input": "2021-10-08T09:04:38.633303Z",
     "iopub.status.busy": "2021-10-08T09:04:38.633006Z",
     "iopub.status.idle": "2021-10-08T09:04:38.640758Z",
     "shell.execute_reply": "2021-10-08T09:04:38.639585Z",
     "shell.execute_reply.started": "2021-10-08T09:04:38.633270Z"
    }
   },
   "outputs": [
    {
     "name": "stdout",
     "output_type": "stream",
     "text": [
      "[5, 10, 1, 1, 20, 1]\n",
      "[1, 3, 2]\n"
     ]
    },
    {
     "data": {
      "text/plain": [
       "[1, 3, 2]"
      ]
     },
     "execution_count": 60,
     "metadata": {},
     "output_type": "execute_result"
    }
   ],
   "source": [
    "progresses = [95, 90, 99, 99, 80, 99]\n",
    "speeds = [1, 1, 1, 1, 1, 1]\n",
    "solution(progresses, speeds)"
   ]
  },
  {
   "cell_type": "markdown",
   "metadata": {},
   "source": [
    "### 1차 제출물 : 테스트 반쯤 통과하고 실패함 ㅠㅠ"
   ]
  },
  {
   "cell_type": "code",
   "execution_count": 61,
   "metadata": {
    "execution": {
     "iopub.execute_input": "2021-10-08T09:06:56.409847Z",
     "iopub.status.busy": "2021-10-08T09:06:56.409466Z",
     "iopub.status.idle": "2021-10-08T09:06:56.425747Z",
     "shell.execute_reply": "2021-10-08T09:06:56.420601Z",
     "shell.execute_reply.started": "2021-10-08T09:06:56.409812Z"
    }
   },
   "outputs": [],
   "source": [
    "def solution(progresses, speeds):\n",
    "    \n",
    "    class Stack():\n",
    "        \"\"\"\n",
    "        size, isEmpty, push, pop, peek 5가지 연산 빠르게 구현\n",
    "        \"\"\"\n",
    "        def __init__(self):\n",
    "            self.data = [] # data라는 attr을 만듬. 이를 빈 list로 초기화\n",
    "\n",
    "        def size(self):\n",
    "            return len(self.data)\n",
    "\n",
    "        def isEmpty(self):\n",
    "            return self.size() == 0\n",
    "\n",
    "        def push(self, item):\n",
    "            return self.data.append(item)\n",
    "\n",
    "        def pop(self):\n",
    "            return self.data.pop()\n",
    "\n",
    "        def peek(self):\n",
    "            return self.data[-1]\n",
    "    \n",
    "    # 함수를 만드는데, progress 최초값이랑 speed가 주어지면 최소 x값 뽑아내는 함수\n",
    "    def calculate_finish_day(progress, speed):\n",
    "        for day in range(1,100):\n",
    "            progress += speed\n",
    "            if progress >= 100:\n",
    "                return day\n",
    "    \n",
    "    answer = []\n",
    "    stack = Stack()\n",
    "    \n",
    "    for progress, speed in zip(progresses, speeds):\n",
    "        finish_day = calculate_finish_day(progress, speed)\n",
    "        stack.push(finish_day)\n",
    "              \n",
    "    num = 1\n",
    "    while True:\n",
    "        poped = stack.pop() # 더 나중에 들어온놈\n",
    "        if stack.isEmpty(): # 마지막 value였음\n",
    "            answer.append(num)\n",
    "            break\n",
    "        \n",
    "        peeked = stack.peek() # 더 먼저 들어온놈\n",
    "        if (peeked >= poped): # 아직 작업 완성이 안됨\n",
    "            num += 1\n",
    "        else: # 작업 완성됨\n",
    "            answer.append(num)\n",
    "            num = 1 # 초기화\n",
    "            \n",
    "    answer.reverse()\n",
    "    return answer"
   ]
  },
  {
   "cell_type": "markdown",
   "metadata": {},
   "source": [
    "### 아 ㅅㅂ 뭐하냐 진짜 이거 스택으로 풀려고 개쌩ㅈㄹ했는데 생각하면 할수록 스택이랑 안맞는데 앞에꺼 넣으면 먼저나와야하는데.. 그럼 큐인데 이상하다 이러고있었넴ㅇㄴㄹㄴㅁㄹㅇㄴㅁㄹ 스택/큐 문제였잖아;;;;;"
   ]
  },
  {
   "cell_type": "code",
   "execution_count": 72,
   "metadata": {
    "execution": {
     "iopub.execute_input": "2021-10-08T09:24:28.632872Z",
     "iopub.status.busy": "2021-10-08T09:24:28.632595Z",
     "iopub.status.idle": "2021-10-08T09:24:28.638895Z",
     "shell.execute_reply": "2021-10-08T09:24:28.637727Z",
     "shell.execute_reply.started": "2021-10-08T09:24:28.632843Z"
    }
   },
   "outputs": [],
   "source": [
    "def solution(progresses, speeds):\n",
    "    answer = []\n",
    "    \n",
    "    from collections import deque\n",
    "    speeds = deque(s for s in speeds) # 무지성으로 queue에 가따박음.\n",
    "    \n",
    "    while speeds:\n",
    "        \n",
    "        # 완료 시점 계산\n",
    "        from math import ceil\n",
    "        finished = ceil((100 - progresses[0]) / speeds[0]) # 7\n",
    "        progresses = deque(progress + speed * finished for progress, speed in zip(progresses, speeds))\n",
    "        \n",
    "        num = 0\n",
    "        while progresses[0] >= 100: # 처음 들어온넘이 100% 충족된 경우\n",
    "            num += 1\n",
    "            progresses.popleft() # 젤 앞에꺼 제외\n",
    "            speeds.popleft() # 젤 앞에꺼 제외\n",
    "            \n",
    "            if not progresses: # 다 처리하고 빈 리스트인 경우\n",
    "                break\n",
    "        \n",
    "        answer.append(num)\n",
    "        \n",
    "    return answer"
   ]
  },
  {
   "cell_type": "code",
   "execution_count": 73,
   "metadata": {
    "execution": {
     "iopub.execute_input": "2021-10-08T09:24:28.896710Z",
     "iopub.status.busy": "2021-10-08T09:24:28.896433Z",
     "iopub.status.idle": "2021-10-08T09:24:28.902877Z",
     "shell.execute_reply": "2021-10-08T09:24:28.901378Z",
     "shell.execute_reply.started": "2021-10-08T09:24:28.896679Z"
    }
   },
   "outputs": [
    {
     "data": {
      "text/plain": [
       "[2, 1]"
      ]
     },
     "execution_count": 73,
     "metadata": {},
     "output_type": "execute_result"
    }
   ],
   "source": [
    "progresses = [93, 30, 55]\n",
    "speeds = [1, 30, 5]\n",
    "# return = [2, 1]\n",
    "\n",
    "solution(progresses, speeds)"
   ]
  },
  {
   "cell_type": "markdown",
   "metadata": {},
   "source": [
    "### 아... 문제 하나에 시간 너무 많이 써버려서 뇌정지오네 다른 사람들꺼도 봐야하는데 ㅠ 이거 걍 효율 생각 안하고 짠건데 ㅠ"
   ]
  },
  {
   "cell_type": "code",
   "execution_count": null,
   "metadata": {},
   "outputs": [],
   "source": []
  }
 ],
 "metadata": {
  "kernelspec": {
   "display_name": "Python 3",
   "language": "python",
   "name": "python3"
  },
  "language_info": {
   "codemirror_mode": {
    "name": "ipython",
    "version": 3
   },
   "file_extension": ".py",
   "mimetype": "text/x-python",
   "name": "python",
   "nbconvert_exporter": "python",
   "pygments_lexer": "ipython3",
   "version": "3.7.8"
  }
 },
 "nbformat": 4,
 "nbformat_minor": 4
}
