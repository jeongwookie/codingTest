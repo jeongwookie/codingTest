{
 "cells": [
  {
   "cell_type": "markdown",
   "metadata": {},
   "source": [
    "### 내 풀이"
   ]
  },
  {
   "cell_type": "code",
   "execution_count": 17,
   "metadata": {
    "execution": {
     "iopub.execute_input": "2021-10-12T08:47:13.159523Z",
     "iopub.status.busy": "2021-10-12T08:47:13.159110Z",
     "iopub.status.idle": "2021-10-12T08:47:13.166265Z",
     "shell.execute_reply": "2021-10-12T08:47:13.165326Z",
     "shell.execute_reply.started": "2021-10-12T08:47:13.159473Z"
    }
   },
   "outputs": [],
   "source": [
    "def solution(priorities, location):\n",
    "    \"\"\"\n",
    "    아예 풀이 방법을 문제에다가 적어놔부렀네\n",
    "    인쇄 대기 목록의 가장 앞에 있는 문서를 꺼냄\n",
    "    나머지 목록들중에서 해당 문서보다 중요도가 높은 문서가 1개라도 존재하면 대기목록의 최하위로 다시 넣음\n",
    "    꺼낸 문서가 제일 중요도가 높다면 이를 인쇄함\n",
    "    \n",
    "    priorities = [2,1,3,2]\n",
    "    location = 2 # 내가 원하는 인쇄 문서가 현재 어느 위치에 있는지. 제일 앞이 0임.\n",
    "    return = 1 # 몇번째로 인쇄되는지 출력\n",
    "    \n",
    "    대기목록 리스트는 크기가 100 이하이므로 효율성 문제가 아님.\n",
    "    중요도는 숫자가 클수록 중요한거임.\n",
    "    중요도가 둘이 겹칠수도 있음.\n",
    "    \n",
    "    \"\"\"\n",
    "    #1. Target을 표시하기 위해 list를 변형시켜서 튜플의 리스트로 만듬. \n",
    "    target_list = []\n",
    "    for idx, p in enumerate(priorities):\n",
    "        if idx == location: # target\n",
    "            target_list.append((\"T\", p))\n",
    "        else:\n",
    "            target_list.append((\"N\", p))\n",
    "    #print(target_list)\n",
    "    \n",
    "    #2. list를 queue에 박음\n",
    "    from collections import deque\n",
    "    queue = deque(tup for tup in target_list) \n",
    "    print(queue)\n",
    "    \n",
    "    #3. loop 돌려서 제일 앞에 들어간넘 pop해서 뒤에 남은 애들과 비교하기\n",
    "    print_list = []\n",
    "    while queue:\n",
    "        \n",
    "        poped = queue.popleft()\n",
    "        max_val = max(i[1] for i in queue)\n",
    "        \n",
    "        #4. 젤 앞에 있는넘이 max값보다 크거나 같으면 프린트 리스트에 넣고, 아니면 enqueue하자.\n",
    "        if poped[1] >= max_val: # 프린트하자.\n",
    "            print_list.append(poped[0])\n",
    "            \n",
    "            #5. 종료조건 : 만약 print_list에 가장 최근에 들어간 값이 T인 경우, 종료\n",
    "            if poped[0] == 'T':\n",
    "                break\n",
    "                \n",
    "        else:\n",
    "            queue.append(poped) # 다시 큐에 넣기\n",
    "        \n",
    "    print(print_list)\n",
    "    \n",
    "    #6. 제대로 돌아갔으면 print_list의 제일 마지막 값은 T일 것이다. len을 결과값으로 출력한다.\n",
    "    return len(print_list)"
   ]
  },
  {
   "cell_type": "code",
   "execution_count": 18,
   "metadata": {
    "execution": {
     "iopub.execute_input": "2021-10-12T08:47:14.294771Z",
     "iopub.status.busy": "2021-10-12T08:47:14.294476Z",
     "iopub.status.idle": "2021-10-12T08:47:14.301995Z",
     "shell.execute_reply": "2021-10-12T08:47:14.300831Z",
     "shell.execute_reply.started": "2021-10-12T08:47:14.294733Z"
    }
   },
   "outputs": [
    {
     "name": "stdout",
     "output_type": "stream",
     "text": [
      "deque([('N', 2), ('N', 1), ('T', 3), ('N', 2)])\n",
      "['T']\n"
     ]
    },
    {
     "data": {
      "text/plain": [
       "1"
      ]
     },
     "execution_count": 18,
     "metadata": {},
     "output_type": "execute_result"
    }
   ],
   "source": [
    "priorities = [2, 1, 3, 2]\n",
    "location = 2\n",
    "solution(priorities, location)"
   ]
  },
  {
   "cell_type": "code",
   "execution_count": 19,
   "metadata": {
    "execution": {
     "iopub.execute_input": "2021-10-12T08:48:30.093097Z",
     "iopub.status.busy": "2021-10-12T08:48:30.092807Z",
     "iopub.status.idle": "2021-10-12T08:48:30.100356Z",
     "shell.execute_reply": "2021-10-12T08:48:30.098940Z",
     "shell.execute_reply.started": "2021-10-12T08:48:30.093063Z"
    }
   },
   "outputs": [
    {
     "name": "stdout",
     "output_type": "stream",
     "text": [
      "deque([('T', 1), ('N', 1), ('N', 9), ('N', 1), ('N', 1), ('N', 1)])\n",
      "['N', 'N', 'N', 'N', 'T']\n"
     ]
    },
    {
     "data": {
      "text/plain": [
       "5"
      ]
     },
     "execution_count": 19,
     "metadata": {},
     "output_type": "execute_result"
    }
   ],
   "source": [
    "p = [1, 1, 9, 1, 1, 1]\n",
    "l = 0\n",
    "solution(p,l)"
   ]
  },
  {
   "cell_type": "markdown",
   "metadata": {},
   "source": [
    "### 제출 첫번째"
   ]
  },
  {
   "cell_type": "code",
   "execution_count": null,
   "metadata": {},
   "outputs": [],
   "source": [
    "def solution(priorities, location):\n",
    "\n",
    "    #1. Target을 표시하기 위해 list를 변형시켜서 튜플의 리스트로 만듬. \n",
    "    target_list = []\n",
    "    for idx, p in enumerate(priorities):\n",
    "        if idx == location: # target\n",
    "            target_list.append((\"T\", p))\n",
    "        else:\n",
    "            target_list.append((\"N\", p))\n",
    "    \n",
    "    #2. list를 queue에 박음\n",
    "    from collections import deque\n",
    "    queue = deque(tup for tup in target_list) \n",
    "    \n",
    "    #3. loop 돌려서 제일 앞에 들어간넘 pop해서 뒤에 남은 애들과 비교하기\n",
    "    print_list = []\n",
    "    while queue:\n",
    "        \n",
    "        poped = queue.popleft()\n",
    "        max_val = max(i[1] for i in queue)\n",
    "        \n",
    "        #4. 젤 앞에 있는넘이 max값보다 크거나 같으면 프린트 리스트에 넣고, 아니면 enqueue하자.\n",
    "        if poped[1] >= max_val: # 프린트하자.\n",
    "            print_list.append(poped[0])\n",
    "            \n",
    "            #5. 종료조건 : 만약 print_list에 가장 최근에 들어간 값이 T인 경우, 종료\n",
    "            if poped[0] == 'T':\n",
    "                break\n",
    "                \n",
    "        else:\n",
    "            queue.append(poped) # 다시 큐에 넣기\n",
    "    \n",
    "    #6. 제대로 돌아갔으면 print_list의 제일 마지막 값은 T일 것이다. len을 결과값으로 출력한다.\n",
    "    return len(print_list)"
   ]
  },
  {
   "attachments": {
    "990f5d22-1fd3-4b76-b715-5a0d346dd7f4.png": {
     "image/png": "[encoded data removed]"
    }
   },
   "cell_type": "markdown",
   "metadata": {},
   "source": [
    "### 런타임 에러가 뜸 ㅠ\n",
    "![image.png](attachment:990f5d22-1fd3-4b76-b715-5a0d346dd7f4.png)"
   ]
  },
  {
   "cell_type": "markdown",
   "metadata": {},
   "source": [
    "### 디버깅"
   ]
  },
  {
   "cell_type": "code",
   "execution_count": 27,
   "metadata": {
    "execution": {
     "iopub.execute_input": "2021-10-12T09:03:17.200471Z",
     "iopub.status.busy": "2021-10-12T09:03:17.200200Z",
     "iopub.status.idle": "2021-10-12T09:03:17.213080Z",
     "shell.execute_reply": "2021-10-12T09:03:17.212126Z",
     "shell.execute_reply.started": "2021-10-12T09:03:17.200446Z"
    }
   },
   "outputs": [],
   "source": [
    "def solution(priorities, location):\n",
    "\n",
    "    #1. Target을 표시하기 위해 list를 변형시켜서 튜플의 리스트로 만듬. \n",
    "    target_list = []\n",
    "    for idx, p in enumerate(priorities):\n",
    "        if idx == location: # target\n",
    "            target_list.append((\"T\", p))\n",
    "        else:\n",
    "            target_list.append((\"N\", p))\n",
    "    \n",
    "    #2. list를 queue에 박음\n",
    "    from collections import deque\n",
    "    queue = deque(tup for tup in target_list) \n",
    "    print(queue)\n",
    "    \n",
    "    #3. loop 돌려서 제일 앞에 들어간넘 pop해서 뒤에 남은 애들과 비교하기\n",
    "    print_list = []\n",
    "    while queue:\n",
    "        \"\"\"\n",
    "        poped를 해버린 상태로 비교를 시작해서 마지막 순번이 Target인 경우에 빈 queue가 생겨서 max값이 계산되지 않았다.\n",
    "        이를 수정하자.\n",
    "        \"\"\"\n",
    "        print(f\"Queue : {queue}\")\n",
    "        \n",
    "        poped = queue.popleft()\n",
    "        print(f\"poped : {poped}\")\n",
    "        \n",
    "        ### 종료 조건 추가 ###\n",
    "        if len(queue) == 0:\n",
    "            print_list.append(poped[0])\n",
    "            if poped[0] == 'T':\n",
    "                break\n",
    "        \n",
    "        max_val = max(i[1] for i in queue)\n",
    "        print(f\"max_val : {max_val}\")\n",
    "        \n",
    "        #4. 젤 앞에 있는넘이 max값보다 크거나 같으면 프린트 리스트에 넣고, 아니면 enqueue하자.\n",
    "        if poped[1] >= max_val: # 프린트하자.\n",
    "            print_list.append(poped[0])\n",
    "            \n",
    "            #5. 종료조건 : 만약 print_list에 가장 최근에 들어간 값이 T인 경우, 종료\n",
    "            if poped[0] == 'T':\n",
    "                break\n",
    "                \n",
    "        else:\n",
    "            queue.append(poped) # 다시 큐에 넣기\n",
    "    \n",
    "    #6. 제대로 돌아갔으면 print_list의 제일 마지막 값은 T일 것이다. len을 결과값으로 출력한다.\n",
    "    return len(print_list)"
   ]
  },
  {
   "cell_type": "code",
   "execution_count": 28,
   "metadata": {
    "execution": {
     "iopub.execute_input": "2021-10-12T09:03:18.062186Z",
     "iopub.status.busy": "2021-10-12T09:03:18.061886Z",
     "iopub.status.idle": "2021-10-12T09:03:18.069350Z",
     "shell.execute_reply": "2021-10-12T09:03:18.068272Z",
     "shell.execute_reply.started": "2021-10-12T09:03:18.062154Z"
    }
   },
   "outputs": [
    {
     "name": "stdout",
     "output_type": "stream",
     "text": [
      "deque([('N', 1), ('N', 1), ('N', 1), ('N', 1), ('N', 1), ('T', 1)])\n",
      "Queue : deque([('N', 1), ('N', 1), ('N', 1), ('N', 1), ('N', 1), ('T', 1)])\n",
      "poped : ('N', 1)\n",
      "max_val : 1\n",
      "Queue : deque([('N', 1), ('N', 1), ('N', 1), ('N', 1), ('T', 1)])\n",
      "poped : ('N', 1)\n",
      "max_val : 1\n",
      "Queue : deque([('N', 1), ('N', 1), ('N', 1), ('T', 1)])\n",
      "poped : ('N', 1)\n",
      "max_val : 1\n",
      "Queue : deque([('N', 1), ('N', 1), ('T', 1)])\n",
      "poped : ('N', 1)\n",
      "max_val : 1\n",
      "Queue : deque([('N', 1), ('T', 1)])\n",
      "poped : ('N', 1)\n",
      "max_val : 1\n",
      "Queue : deque([('T', 1)])\n",
      "poped : ('T', 1)\n"
     ]
    },
    {
     "data": {
      "text/plain": [
       "6"
      ]
     },
     "execution_count": 28,
     "metadata": {},
     "output_type": "execute_result"
    }
   ],
   "source": [
    "p = [1, 1, 1, 1, 1, 1]\n",
    "l = 5\n",
    "solution(p,l)"
   ]
  },
  {
   "cell_type": "code",
   "execution_count": 29,
   "metadata": {
    "execution": {
     "iopub.execute_input": "2021-10-12T09:03:19.097706Z",
     "iopub.status.busy": "2021-10-12T09:03:19.097434Z",
     "iopub.status.idle": "2021-10-12T09:03:19.104148Z",
     "shell.execute_reply": "2021-10-12T09:03:19.103179Z",
     "shell.execute_reply.started": "2021-10-12T09:03:19.097676Z"
    }
   },
   "outputs": [
    {
     "name": "stdout",
     "output_type": "stream",
     "text": [
      "deque([('N', 2), ('N', 1), ('T', 3), ('N', 2)])\n",
      "Queue : deque([('N', 2), ('N', 1), ('T', 3), ('N', 2)])\n",
      "poped : ('N', 2)\n",
      "max_val : 3\n",
      "Queue : deque([('N', 1), ('T', 3), ('N', 2), ('N', 2)])\n",
      "poped : ('N', 1)\n",
      "max_val : 3\n",
      "Queue : deque([('T', 3), ('N', 2), ('N', 2), ('N', 1)])\n",
      "poped : ('T', 3)\n",
      "max_val : 2\n"
     ]
    },
    {
     "data": {
      "text/plain": [
       "1"
      ]
     },
     "execution_count": 29,
     "metadata": {},
     "output_type": "execute_result"
    }
   ],
   "source": [
    "priorities = [2, 1, 3, 2]\n",
    "location = 2\n",
    "solution(priorities, location)"
   ]
  },
  {
   "cell_type": "code",
   "execution_count": null,
   "metadata": {},
   "outputs": [],
   "source": []
  }
 ],
 "metadata": {
  "kernelspec": {
   "display_name": "Python 3",
   "language": "python",
   "name": "python3"
  },
  "language_info": {
   "codemirror_mode": {
    "name": "ipython",
    "version": 3
   },
   "file_extension": ".py",
   "mimetype": "text/x-python",
   "name": "python",
   "nbconvert_exporter": "python",
   "pygments_lexer": "ipython3",
   "version": "3.7.8"
  }
 },
 "nbformat": 4,
 "nbformat_minor": 4
}
