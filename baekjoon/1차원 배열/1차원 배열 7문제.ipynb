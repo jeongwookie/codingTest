{
 "cells": [
  {
   "cell_type": "markdown",
   "metadata": {},
   "source": [
    "### 최소, 최대\n",
    "- https://www.acmicpc.net/problem/10818"
   ]
  },
  {
   "cell_type": "code",
   "execution_count": 12,
   "metadata": {
    "execution": {
     "iopub.execute_input": "2021-11-01T07:37:10.826553Z",
     "iopub.status.busy": "2021-11-01T07:37:10.826266Z",
     "iopub.status.idle": "2021-11-01T07:37:19.440196Z",
     "shell.execute_reply": "2021-11-01T07:37:19.439329Z",
     "shell.execute_reply.started": "2021-11-01T07:37:10.826519Z"
    }
   },
   "outputs": [
    {
     "name": "stdin",
     "output_type": "stream",
     "text": [
      " 3\n",
      " 3 9 75\n"
     ]
    },
    {
     "name": "stdout",
     "output_type": "stream",
     "text": [
      "3 75\n"
     ]
    }
   ],
   "source": [
    "## 입력\n",
    "\n",
    "N = int(input())\n",
    "input_list = list(map(int, input().split()))\n",
    "\n",
    "print(f\"{min(input_list)} {max(input_list)}\")"
   ]
  },
  {
   "cell_type": "markdown",
   "metadata": {},
   "source": [
    "### 최댓값\n",
    "- https://www.acmicpc.net/problem/2562\n",
    "- python list의 내부 함수에 대해서 평소에 쓰는거 말고도 좀 알아야할듯?\n",
    "- 잘쓰는거 : append(), pop(), pop(0), sort()\n",
    "- 잘안쓰는거 : remove(), index(), count(), reverse()"
   ]
  },
  {
   "cell_type": "code",
   "execution_count": 16,
   "metadata": {
    "execution": {
     "iopub.execute_input": "2021-11-01T07:51:58.042908Z",
     "iopub.status.busy": "2021-11-01T07:51:58.042584Z",
     "iopub.status.idle": "2021-11-01T07:52:15.090055Z",
     "shell.execute_reply": "2021-11-01T07:52:15.089162Z",
     "shell.execute_reply.started": "2021-11-01T07:51:58.042868Z"
    }
   },
   "outputs": [
    {
     "name": "stdin",
     "output_type": "stream",
     "text": [
      " 3\n",
      " 29\n",
      " 38\n",
      " 12\n",
      " 57\n",
      " 74\n",
      " 40\n",
      " 85\n",
      " 61\n"
     ]
    },
    {
     "name": "stdout",
     "output_type": "stream",
     "text": [
      "85\n",
      "8\n"
     ]
    }
   ],
   "source": [
    "## 입력\n",
    "\n",
    "import heapq\n",
    "_heap = []\n",
    "\n",
    "for idx in range(9):\n",
    "    N = int(input())\n",
    "    heapq.heappush(_heap, (N, idx))\n",
    "\n",
    "## 출력\n",
    "max_val = heapq.nlargest(1, _heap)[0]\n",
    "print(max_val[0])\n",
    "print(max_val[1]+1)\n",
    "\n"
   ]
  },
  {
   "cell_type": "markdown",
   "metadata": {},
   "source": [
    "### 숫자의 개수\n",
    "- https://www.acmicpc.net/problem/2577"
   ]
  },
  {
   "cell_type": "code",
   "execution_count": 20,
   "metadata": {
    "execution": {
     "iopub.execute_input": "2021-11-01T08:26:41.558785Z",
     "iopub.status.busy": "2021-11-01T08:26:41.558527Z",
     "iopub.status.idle": "2021-11-01T08:26:49.015186Z",
     "shell.execute_reply": "2021-11-01T08:26:49.014279Z",
     "shell.execute_reply.started": "2021-11-01T08:26:41.558756Z"
    }
   },
   "outputs": [
    {
     "name": "stdin",
     "output_type": "stream",
     "text": [
      " 150\n",
      " 266\n",
      " 427\n"
     ]
    },
    {
     "name": "stdout",
     "output_type": "stream",
     "text": [
      "3\n",
      "1\n",
      "0\n",
      "2\n",
      "0\n",
      "0\n",
      "0\n",
      "2\n",
      "0\n",
      "0\n"
     ]
    }
   ],
   "source": [
    "## 입력\n",
    "\n",
    "result = 1\n",
    "for idx in range(3):\n",
    "    N = int(input())\n",
    "    result = result * N\n",
    "\n",
    "## 출력\n",
    "result = str(result)\n",
    "for i in range(10):\n",
    "    print(result.count(str(i)))\n"
   ]
  },
  {
   "cell_type": "markdown",
   "metadata": {},
   "source": [
    "### 나머지\n",
    "- https://www.acmicpc.net/problem/3052"
   ]
  },
  {
   "cell_type": "code",
   "execution_count": 21,
   "metadata": {
    "execution": {
     "iopub.execute_input": "2021-11-01T08:37:57.068028Z",
     "iopub.status.busy": "2021-11-01T08:37:57.067750Z",
     "iopub.status.idle": "2021-11-01T08:38:07.100921Z",
     "shell.execute_reply": "2021-11-01T08:38:07.100134Z",
     "shell.execute_reply.started": "2021-11-01T08:37:57.067999Z"
    }
   },
   "outputs": [
    {
     "name": "stdin",
     "output_type": "stream",
     "text": [
      " 1\n",
      " 2\n",
      " 3\n",
      " 4\n",
      " 5\n",
      " 6\n",
      " 7\n",
      " 8\n",
      " 9\n",
      " 10\n"
     ]
    },
    {
     "name": "stdout",
     "output_type": "stream",
     "text": [
      "10\n"
     ]
    }
   ],
   "source": [
    "## 입력\n",
    "_list = []\n",
    "for _ in range(10):\n",
    "    N = int(input())\n",
    "    _list.append(N % 42)\n",
    "    \n",
    "## 계산\n",
    "print(len(set(_list)))\n"
   ]
  },
  {
   "cell_type": "markdown",
   "metadata": {},
   "source": [
    "### 평균\n",
    "- https://www.acmicpc.net/problem/1546"
   ]
  },
  {
   "cell_type": "code",
   "execution_count": 23,
   "metadata": {
    "execution": {
     "iopub.execute_input": "2021-11-01T08:44:16.256919Z",
     "iopub.status.busy": "2021-11-01T08:44:16.256660Z",
     "iopub.status.idle": "2021-11-01T08:44:21.831072Z",
     "shell.execute_reply": "2021-11-01T08:44:21.830256Z",
     "shell.execute_reply.started": "2021-11-01T08:44:16.256891Z"
    }
   },
   "outputs": [
    {
     "name": "stdin",
     "output_type": "stream",
     "text": [
      " 3\n",
      " 40 80 60\n"
     ]
    },
    {
     "name": "stdout",
     "output_type": "stream",
     "text": [
      "[50.0, 100.0, 75.0]\n",
      "0.0\n"
     ]
    }
   ],
   "source": [
    "N = int(input())\n",
    "input_list = list(map(int, input().split()))\n",
    "\n",
    "## 최댓값 고르기\n",
    "max_val = max(input_list)\n",
    "_list = map(lambda x: (x / max_val) * 100, input_list)\n",
    "print(sum(_list) / N)"
   ]
  },
  {
   "cell_type": "markdown",
   "metadata": {},
   "source": [
    "### OX퀴즈\n",
    "- https://www.acmicpc.net/problem/8958"
   ]
  },
  {
   "cell_type": "code",
   "execution_count": 31,
   "metadata": {
    "execution": {
     "iopub.execute_input": "2021-11-01T09:15:21.548263Z",
     "iopub.status.busy": "2021-11-01T09:15:21.547955Z",
     "iopub.status.idle": "2021-11-01T09:15:49.014887Z",
     "shell.execute_reply": "2021-11-01T09:15:49.014041Z",
     "shell.execute_reply.started": "2021-11-01T09:15:21.548227Z"
    }
   },
   "outputs": [
    {
     "name": "stdin",
     "output_type": "stream",
     "text": [
      " 5\n",
      " OOXXOXXOOO\n",
      " OOXXOOXXOO\n",
      " OXOXOXOXOXOXOX\n",
      " OOOOOOOOOO\n",
      " OOOOXOOOOXOOOOX\n"
     ]
    },
    {
     "name": "stdout",
     "output_type": "stream",
     "text": [
      "10\n",
      "9\n",
      "7\n",
      "55\n",
      "30\n"
     ]
    }
   ],
   "source": [
    "## 입력\n",
    "N = int(input())\n",
    "input_str_list = []\n",
    "for _ in range(N):\n",
    "    input_str = str(input()) # OXOO... or XOXX ..\n",
    "    input_str_list.append(input_str)\n",
    "\n",
    "## 출력\n",
    "for input_str in input_str_list:\n",
    "    _stack = []\n",
    "    ans = 0\n",
    "    for s in input_str:\n",
    "        if s == \"O\":\n",
    "            _stack.append(s)\n",
    "        else:\n",
    "            if _stack: # stack이 비어있지 않으면 다 계산함\n",
    "                ans += (len(_stack) * (len(_stack)+1) / 2)\n",
    "                _stack = []\n",
    "    \n",
    "    if _stack:\n",
    "        ans += (len(_stack) * (len(_stack)+1) / 2)\n",
    "        \n",
    "    print(int(ans))\n",
    "        "
   ]
  },
  {
   "cell_type": "markdown",
   "metadata": {},
   "source": [
    "### 평균은 넘겠지\n",
    "- https://www.acmicpc.net/problem/4344"
   ]
  },
  {
   "cell_type": "code",
   "execution_count": 35,
   "metadata": {
    "execution": {
     "iopub.execute_input": "2021-11-01T09:29:20.151127Z",
     "iopub.status.busy": "2021-11-01T09:29:20.150818Z",
     "iopub.status.idle": "2021-11-01T09:29:34.252757Z",
     "shell.execute_reply": "2021-11-01T09:29:34.251757Z",
     "shell.execute_reply.started": "2021-11-01T09:29:20.151092Z"
    }
   },
   "outputs": [
    {
     "name": "stdin",
     "output_type": "stream",
     "text": [
      " 1\n",
      " 5 50 50 70 80 100\n"
     ]
    },
    {
     "name": "stdout",
     "output_type": "stream",
     "text": [
      "40.000%\n"
     ]
    }
   ],
   "source": [
    "TEST_CASE_NUM = int(input())\n",
    "\n",
    "answer = []\n",
    "for _ in range(TEST_CASE_NUM):\n",
    "    input_list = list(map(int, input().split()))\n",
    "    student_num = input_list[0]\n",
    "    average = sum(input_list[1:]) / student_num\n",
    "    \n",
    "    _list = [i for i in input_list[1:] if i > average]\n",
    "    ans = (len(_list) / student_num) * 100\n",
    "    answer.append(round(ans, 3))\n",
    "\n",
    "## 출력\n",
    "for idx in range(TEST_CASE_NUM):\n",
    "    print(f\"{answer[idx]:.3f}%\")"
   ]
  },
  {
   "cell_type": "code",
   "execution_count": null,
   "metadata": {},
   "outputs": [],
   "source": []
  },
  {
   "cell_type": "code",
   "execution_count": null,
   "metadata": {},
   "outputs": [],
   "source": []
  }
 ],
 "metadata": {
  "kernelspec": {
   "display_name": "Python 3",
   "language": "python",
   "name": "python3"
  },
  "language_info": {
   "codemirror_mode": {
    "name": "ipython",
    "version": 3
   },
   "file_extension": ".py",
   "mimetype": "text/x-python",
   "name": "python",
   "nbconvert_exporter": "python",
   "pygments_lexer": "ipython3",
   "version": "3.7.8"
  }
 },
 "nbformat": 4,
 "nbformat_minor": 4
}
